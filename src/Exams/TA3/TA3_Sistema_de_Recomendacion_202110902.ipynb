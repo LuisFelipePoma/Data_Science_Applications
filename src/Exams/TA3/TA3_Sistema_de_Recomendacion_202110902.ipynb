{
  "cells": [
    {
      "cell_type": "markdown",
      "metadata": {
        "id": "PmozbMh5CEAH"
      },
      "source": [
        "![image.png](data:image/png;base64,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)"
      ]
    },
    {
      "cell_type": "markdown",
      "metadata": {
        "id": "527lRI0zDtC2"
      },
      "source": [
        "<h3 align=\"center\"><b>TA3:</b> Sistema de Recomendacion </h3>\n",
        "<h3 align=\"center\">2023-2</h3>\n"
      ]
    },
    {
      "cell_type": "markdown",
      "metadata": {
        "id": "bfWr1IM-DMap"
      },
      "source": [
        "\n",
        "\n",
        "---\n",
        "\n",
        "\n",
        "**Nombre del Alumno:**  Luis Felipe Poma Astete\n",
        "\n",
        "**Código:**  202110902\n",
        "\n",
        "\n",
        "---\n",
        "\n"
      ]
    },
    {
      "cell_type": "markdown",
      "metadata": {
        "id": "cYdJ6qZIwWnQ"
      },
      "source": [
        "Desarrollar un Sistema de Recomendación en Python considerando el filtrado:\n",
        "\n",
        "(1) **Por contenido** Seleccione los atributos que crea necesarios para identificar un producto o item (p.e model_attr, category, brand, year)\n",
        "\n",
        "(2) **Por memoria y modelo**\n",
        "\n",
        "- Realizar las operaciones de preprocesamiento que crean necesarias\n",
        "\n",
        "- Crear los modelos de acuerdo a las técnicas (algoritmos) KNN y SVD\n",
        "\n",
        "- Evaluar que modelo resultante ofrece el mejor rendimiento e intentar mejorarlo aplicando hiperparámetros al algoritmo **GridSearchCV**.\n",
        "\n",
        "- Realizar una recomendación a un usuario basado en el filtrado colaborativo.\n",
        "\n",
        "### **DATASET**\n",
        "\n",
        "![image.png](data:image/png;base64,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)\n",
        "\n",
        "El conjunto de datos **df_electronics.csv** contiene atributos sobre productos vendidos en Amazon e incluye interacciones usuario/elemento para recomendación."
      ]
    },
    {
      "cell_type": "code",
      "execution_count": 2,
      "metadata": {},
      "outputs": [],
      "source": [
        "import pandas as pd\n",
        "\n",
        "from surprise import Dataset, Reader, KNNWithMeans\n",
        "from surprise.accuracy import rmse\n",
        "from surprise.model_selection import cross_validate, train_test_split"
      ]
    },
    {
      "cell_type": "markdown",
      "metadata": {
        "id": "i0BvBs7ccB0I"
      },
      "source": [
        "## **Paso #1:** Carga de Dataset"
      ]
    },
    {
      "cell_type": "code",
      "execution_count": 3,
      "metadata": {
        "id": "MtvRq_btwWnY"
      },
      "outputs": [],
      "source": [
        "# TO DO\n",
        "# Crear los dataframes necesarios para contemplar usuarios/productos/ratings\n",
        "df_data = pd.read_csv(\"./df_electronics.csv\")\n",
        "df_ratings = df_data.iloc[:, :3]\n",
        "df_content =  df_data[[\"item_id\",\"category\"]]"
      ]
    },
    {
      "cell_type": "code",
      "execution_count": 4,
      "metadata": {},
      "outputs": [
        {
          "data": {
            "text/html": [
              "<div>\n",
              "<style scoped>\n",
              "    .dataframe tbody tr th:only-of-type {\n",
              "        vertical-align: middle;\n",
              "    }\n",
              "\n",
              "    .dataframe tbody tr th {\n",
              "        vertical-align: top;\n",
              "    }\n",
              "\n",
              "    .dataframe thead th {\n",
              "        text-align: right;\n",
              "    }\n",
              "</style>\n",
              "<table border=\"1\" class=\"dataframe\">\n",
              "  <thead>\n",
              "    <tr style=\"text-align: right;\">\n",
              "      <th></th>\n",
              "      <th>item_id</th>\n",
              "      <th>user_id</th>\n",
              "      <th>rating</th>\n",
              "      <th>timestamp</th>\n",
              "      <th>model_attr</th>\n",
              "      <th>category</th>\n",
              "      <th>brand</th>\n",
              "      <th>year</th>\n",
              "      <th>user_attr</th>\n",
              "      <th>split</th>\n",
              "    </tr>\n",
              "  </thead>\n",
              "  <tbody>\n",
              "    <tr>\n",
              "      <th>0</th>\n",
              "      <td>0</td>\n",
              "      <td>0</td>\n",
              "      <td>5.0</td>\n",
              "      <td>1999-06-13</td>\n",
              "      <td>Female</td>\n",
              "      <td>Portable Audio &amp; Video</td>\n",
              "      <td>NaN</td>\n",
              "      <td>1999</td>\n",
              "      <td>NaN</td>\n",
              "      <td>0</td>\n",
              "    </tr>\n",
              "    <tr>\n",
              "      <th>1</th>\n",
              "      <td>0</td>\n",
              "      <td>1</td>\n",
              "      <td>5.0</td>\n",
              "      <td>1999-06-14</td>\n",
              "      <td>Female</td>\n",
              "      <td>Portable Audio &amp; Video</td>\n",
              "      <td>NaN</td>\n",
              "      <td>1999</td>\n",
              "      <td>NaN</td>\n",
              "      <td>0</td>\n",
              "    </tr>\n",
              "    <tr>\n",
              "      <th>2</th>\n",
              "      <td>0</td>\n",
              "      <td>2</td>\n",
              "      <td>3.0</td>\n",
              "      <td>1999-06-17</td>\n",
              "      <td>Female</td>\n",
              "      <td>Portable Audio &amp; Video</td>\n",
              "      <td>NaN</td>\n",
              "      <td>1999</td>\n",
              "      <td>NaN</td>\n",
              "      <td>0</td>\n",
              "    </tr>\n",
              "    <tr>\n",
              "      <th>3</th>\n",
              "      <td>0</td>\n",
              "      <td>3</td>\n",
              "      <td>1.0</td>\n",
              "      <td>1999-07-01</td>\n",
              "      <td>Female</td>\n",
              "      <td>Portable Audio &amp; Video</td>\n",
              "      <td>NaN</td>\n",
              "      <td>1999</td>\n",
              "      <td>NaN</td>\n",
              "      <td>0</td>\n",
              "    </tr>\n",
              "    <tr>\n",
              "      <th>4</th>\n",
              "      <td>0</td>\n",
              "      <td>4</td>\n",
              "      <td>2.0</td>\n",
              "      <td>1999-07-06</td>\n",
              "      <td>Female</td>\n",
              "      <td>Portable Audio &amp; Video</td>\n",
              "      <td>NaN</td>\n",
              "      <td>1999</td>\n",
              "      <td>NaN</td>\n",
              "      <td>0</td>\n",
              "    </tr>\n",
              "  </tbody>\n",
              "</table>\n",
              "</div>"
            ],
            "text/plain": [
              "   item_id  user_id  rating   timestamp model_attr                category  \\\n",
              "0        0        0     5.0  1999-06-13     Female  Portable Audio & Video   \n",
              "1        0        1     5.0  1999-06-14     Female  Portable Audio & Video   \n",
              "2        0        2     3.0  1999-06-17     Female  Portable Audio & Video   \n",
              "3        0        3     1.0  1999-07-01     Female  Portable Audio & Video   \n",
              "4        0        4     2.0  1999-07-06     Female  Portable Audio & Video   \n",
              "\n",
              "  brand  year user_attr  split  \n",
              "0   NaN  1999       NaN      0  \n",
              "1   NaN  1999       NaN      0  \n",
              "2   NaN  1999       NaN      0  \n",
              "3   NaN  1999       NaN      0  \n",
              "4   NaN  1999       NaN      0  "
            ]
          },
          "execution_count": 4,
          "metadata": {},
          "output_type": "execute_result"
        }
      ],
      "source": [
        "df_data.head()"
      ]
    },
    {
      "cell_type": "markdown",
      "metadata": {
        "id": "qXzvbct7cl31"
      },
      "source": [
        "## **Paso #2:** Preprocesamiento de datos"
      ]
    },
    {
      "cell_type": "code",
      "execution_count": 5,
      "metadata": {
        "id": "jVi3DBt8WWyx"
      },
      "outputs": [],
      "source": [
        "# TO DO\n",
        "#Completar datos faltantes\n",
        "# Realizar las operaciones de preprocesamiento que crean necesarias"
      ]
    },
    {
      "cell_type": "markdown",
      "metadata": {},
      "source": [
        "**`df_ratings`**"
      ]
    },
    {
      "cell_type": "code",
      "execution_count": 6,
      "metadata": {},
      "outputs": [
        {
          "data": {
            "text/html": [
              "<div>\n",
              "<style scoped>\n",
              "    .dataframe tbody tr th:only-of-type {\n",
              "        vertical-align: middle;\n",
              "    }\n",
              "\n",
              "    .dataframe tbody tr th {\n",
              "        vertical-align: top;\n",
              "    }\n",
              "\n",
              "    .dataframe thead th {\n",
              "        text-align: right;\n",
              "    }\n",
              "</style>\n",
              "<table border=\"1\" class=\"dataframe\">\n",
              "  <thead>\n",
              "    <tr style=\"text-align: right;\">\n",
              "      <th></th>\n",
              "      <th>item_id</th>\n",
              "      <th>user_id</th>\n",
              "      <th>rating</th>\n",
              "    </tr>\n",
              "  </thead>\n",
              "  <tbody>\n",
              "    <tr>\n",
              "      <th>0</th>\n",
              "      <td>0</td>\n",
              "      <td>0</td>\n",
              "      <td>5.0</td>\n",
              "    </tr>\n",
              "    <tr>\n",
              "      <th>1</th>\n",
              "      <td>0</td>\n",
              "      <td>1</td>\n",
              "      <td>5.0</td>\n",
              "    </tr>\n",
              "    <tr>\n",
              "      <th>2</th>\n",
              "      <td>0</td>\n",
              "      <td>2</td>\n",
              "      <td>3.0</td>\n",
              "    </tr>\n",
              "    <tr>\n",
              "      <th>3</th>\n",
              "      <td>0</td>\n",
              "      <td>3</td>\n",
              "      <td>1.0</td>\n",
              "    </tr>\n",
              "    <tr>\n",
              "      <th>4</th>\n",
              "      <td>0</td>\n",
              "      <td>4</td>\n",
              "      <td>2.0</td>\n",
              "    </tr>\n",
              "  </tbody>\n",
              "</table>\n",
              "</div>"
            ],
            "text/plain": [
              "   item_id  user_id  rating\n",
              "0        0        0     5.0\n",
              "1        0        1     5.0\n",
              "2        0        2     3.0\n",
              "3        0        3     1.0\n",
              "4        0        4     2.0"
            ]
          },
          "execution_count": 6,
          "metadata": {},
          "output_type": "execute_result"
        }
      ],
      "source": [
        "df_ratings.head()"
      ]
    },
    {
      "cell_type": "code",
      "execution_count": 7,
      "metadata": {},
      "outputs": [
        {
          "data": {
            "text/plain": [
              "item_id    0\n",
              "user_id    0\n",
              "rating     0\n",
              "dtype: int64"
            ]
          },
          "execution_count": 7,
          "metadata": {},
          "output_type": "execute_result"
        }
      ],
      "source": [
        "df_ratings.isnull().sum()"
      ]
    },
    {
      "cell_type": "code",
      "execution_count": 8,
      "metadata": {},
      "outputs": [
        {
          "data": {
            "text/plain": [
              "0"
            ]
          },
          "execution_count": 8,
          "metadata": {},
          "output_type": "execute_result"
        }
      ],
      "source": [
        "df_ratings.duplicated().sum()"
      ]
    },
    {
      "cell_type": "markdown",
      "metadata": {},
      "source": [
        "**`df_content`**"
      ]
    },
    {
      "cell_type": "code",
      "execution_count": 9,
      "metadata": {},
      "outputs": [
        {
          "data": {
            "text/html": [
              "<div>\n",
              "<style scoped>\n",
              "    .dataframe tbody tr th:only-of-type {\n",
              "        vertical-align: middle;\n",
              "    }\n",
              "\n",
              "    .dataframe tbody tr th {\n",
              "        vertical-align: top;\n",
              "    }\n",
              "\n",
              "    .dataframe thead th {\n",
              "        text-align: right;\n",
              "    }\n",
              "</style>\n",
              "<table border=\"1\" class=\"dataframe\">\n",
              "  <thead>\n",
              "    <tr style=\"text-align: right;\">\n",
              "      <th></th>\n",
              "      <th>item_id</th>\n",
              "      <th>category</th>\n",
              "    </tr>\n",
              "  </thead>\n",
              "  <tbody>\n",
              "    <tr>\n",
              "      <th>0</th>\n",
              "      <td>0</td>\n",
              "      <td>Portable Audio &amp; Video</td>\n",
              "    </tr>\n",
              "    <tr>\n",
              "      <th>1</th>\n",
              "      <td>0</td>\n",
              "      <td>Portable Audio &amp; Video</td>\n",
              "    </tr>\n",
              "    <tr>\n",
              "      <th>2</th>\n",
              "      <td>0</td>\n",
              "      <td>Portable Audio &amp; Video</td>\n",
              "    </tr>\n",
              "    <tr>\n",
              "      <th>3</th>\n",
              "      <td>0</td>\n",
              "      <td>Portable Audio &amp; Video</td>\n",
              "    </tr>\n",
              "    <tr>\n",
              "      <th>4</th>\n",
              "      <td>0</td>\n",
              "      <td>Portable Audio &amp; Video</td>\n",
              "    </tr>\n",
              "  </tbody>\n",
              "</table>\n",
              "</div>"
            ],
            "text/plain": [
              "   item_id                category\n",
              "0        0  Portable Audio & Video\n",
              "1        0  Portable Audio & Video\n",
              "2        0  Portable Audio & Video\n",
              "3        0  Portable Audio & Video\n",
              "4        0  Portable Audio & Video"
            ]
          },
          "execution_count": 9,
          "metadata": {},
          "output_type": "execute_result"
        }
      ],
      "source": [
        "df_content.head()"
      ]
    },
    {
      "cell_type": "code",
      "execution_count": 10,
      "metadata": {},
      "outputs": [
        {
          "data": {
            "text/plain": [
              "1283394"
            ]
          },
          "execution_count": 10,
          "metadata": {},
          "output_type": "execute_result"
        }
      ],
      "source": [
        "df_content.duplicated().sum()"
      ]
    },
    {
      "cell_type": "code",
      "execution_count": null,
      "metadata": {},
      "outputs": [],
      "source": [
        "df_content.drop_duplicates(subset=\"item_id\",inplace=True)"
      ]
    },
    {
      "cell_type": "code",
      "execution_count": 12,
      "metadata": {},
      "outputs": [
        {
          "data": {
            "text/plain": [
              "item_id     0\n",
              "category    0\n",
              "dtype: int64"
            ]
          },
          "execution_count": 12,
          "metadata": {},
          "output_type": "execute_result"
        }
      ],
      "source": [
        "df_content.isnull().sum()"
      ]
    },
    {
      "cell_type": "code",
      "execution_count": 13,
      "metadata": {},
      "outputs": [
        {
          "data": {
            "text/html": [
              "<div>\n",
              "<style scoped>\n",
              "    .dataframe tbody tr th:only-of-type {\n",
              "        vertical-align: middle;\n",
              "    }\n",
              "\n",
              "    .dataframe tbody tr th {\n",
              "        vertical-align: top;\n",
              "    }\n",
              "\n",
              "    .dataframe thead th {\n",
              "        text-align: right;\n",
              "    }\n",
              "</style>\n",
              "<table border=\"1\" class=\"dataframe\">\n",
              "  <thead>\n",
              "    <tr style=\"text-align: right;\">\n",
              "      <th></th>\n",
              "      <th>item_id</th>\n",
              "      <th>category</th>\n",
              "    </tr>\n",
              "  </thead>\n",
              "  <tbody>\n",
              "    <tr>\n",
              "      <th>0</th>\n",
              "      <td>0</td>\n",
              "      <td>Portable Audio &amp; Video</td>\n",
              "    </tr>\n",
              "    <tr>\n",
              "      <th>14</th>\n",
              "      <td>1</td>\n",
              "      <td>Computers &amp; Accessories</td>\n",
              "    </tr>\n",
              "    <tr>\n",
              "      <th>16</th>\n",
              "      <td>2</td>\n",
              "      <td>Headphones</td>\n",
              "    </tr>\n",
              "    <tr>\n",
              "      <th>78</th>\n",
              "      <td>3</td>\n",
              "      <td>Camera &amp; Photo</td>\n",
              "    </tr>\n",
              "    <tr>\n",
              "      <th>117</th>\n",
              "      <td>4</td>\n",
              "      <td>Television &amp; Video</td>\n",
              "    </tr>\n",
              "  </tbody>\n",
              "</table>\n",
              "</div>"
            ],
            "text/plain": [
              "     item_id                 category\n",
              "0          0   Portable Audio & Video\n",
              "14         1  Computers & Accessories\n",
              "16         2               Headphones\n",
              "78         3           Camera & Photo\n",
              "117        4       Television & Video"
            ]
          },
          "execution_count": 13,
          "metadata": {},
          "output_type": "execute_result"
        }
      ],
      "source": [
        "df_content.head()"
      ]
    },
    {
      "cell_type": "markdown",
      "metadata": {
        "id": "X174NWxuWLuK"
      },
      "source": [
        "## **Paso #3:** Construir el sistema de recomendación por Contenido"
      ]
    },
    {
      "cell_type": "code",
      "execution_count": null,
      "metadata": {
        "id": "XCtZrFeuE-gF"
      },
      "outputs": [],
      "source": [
        "# TO DO\n",
        "# Seleccione los atributos que crea necesarios para identificar un producto o item (p.e model_attr, category, brand, year)\n",
        "df_content[\"category\"] = df_content[\"category\"].apply(lambda x: x.split())\n",
        "\n",
        "categories = set(g for G in df_content[\"category\"] for g in G)\n",
        "\n",
        "for category in categories:\n",
        "    df_content[category] = df_content.category.transform(lambda x: int(category in x))\n",
        "content_categories = df_content.drop(columns=[\"category\"])\n",
        "content_categories = content_categories.set_index(\"item_id\")\n",
        "df_content = df_content[[\"item_id\",\"category\"]]"
      ]
    },
    {
      "cell_type": "code",
      "execution_count": 15,
      "metadata": {},
      "outputs": [
        {
          "data": {
            "text/html": [
              "<div>\n",
              "<style scoped>\n",
              "    .dataframe tbody tr th:only-of-type {\n",
              "        vertical-align: middle;\n",
              "    }\n",
              "\n",
              "    .dataframe tbody tr th {\n",
              "        vertical-align: top;\n",
              "    }\n",
              "\n",
              "    .dataframe thead th {\n",
              "        text-align: right;\n",
              "    }\n",
              "</style>\n",
              "<table border=\"1\" class=\"dataframe\">\n",
              "  <thead>\n",
              "    <tr style=\"text-align: right;\">\n",
              "      <th></th>\n",
              "      <th>Television</th>\n",
              "      <th>Accessories</th>\n",
              "      <th>Audio</th>\n",
              "      <th>GPS</th>\n",
              "      <th>Security</th>\n",
              "      <th>Home</th>\n",
              "      <th>Technology</th>\n",
              "      <th>Surveillance</th>\n",
              "      <th>Wearable</th>\n",
              "      <th>Camera</th>\n",
              "      <th>Portable</th>\n",
              "      <th>&amp;</th>\n",
              "      <th>Computers</th>\n",
              "      <th>Headphones</th>\n",
              "      <th>Video</th>\n",
              "      <th>Supplies</th>\n",
              "      <th>Car</th>\n",
              "      <th>Photo</th>\n",
              "      <th>Electronics</th>\n",
              "    </tr>\n",
              "    <tr>\n",
              "      <th>item_id</th>\n",
              "      <th></th>\n",
              "      <th></th>\n",
              "      <th></th>\n",
              "      <th></th>\n",
              "      <th></th>\n",
              "      <th></th>\n",
              "      <th></th>\n",
              "      <th></th>\n",
              "      <th></th>\n",
              "      <th></th>\n",
              "      <th></th>\n",
              "      <th></th>\n",
              "      <th></th>\n",
              "      <th></th>\n",
              "      <th></th>\n",
              "      <th></th>\n",
              "      <th></th>\n",
              "      <th></th>\n",
              "      <th></th>\n",
              "    </tr>\n",
              "  </thead>\n",
              "  <tbody>\n",
              "    <tr>\n",
              "      <th>0</th>\n",
              "      <td>0</td>\n",
              "      <td>0</td>\n",
              "      <td>1</td>\n",
              "      <td>0</td>\n",
              "      <td>0</td>\n",
              "      <td>0</td>\n",
              "      <td>0</td>\n",
              "      <td>0</td>\n",
              "      <td>0</td>\n",
              "      <td>0</td>\n",
              "      <td>1</td>\n",
              "      <td>1</td>\n",
              "      <td>0</td>\n",
              "      <td>0</td>\n",
              "      <td>1</td>\n",
              "      <td>0</td>\n",
              "      <td>0</td>\n",
              "      <td>0</td>\n",
              "      <td>0</td>\n",
              "    </tr>\n",
              "    <tr>\n",
              "      <th>1</th>\n",
              "      <td>0</td>\n",
              "      <td>1</td>\n",
              "      <td>0</td>\n",
              "      <td>0</td>\n",
              "      <td>0</td>\n",
              "      <td>0</td>\n",
              "      <td>0</td>\n",
              "      <td>0</td>\n",
              "      <td>0</td>\n",
              "      <td>0</td>\n",
              "      <td>0</td>\n",
              "      <td>1</td>\n",
              "      <td>1</td>\n",
              "      <td>0</td>\n",
              "      <td>0</td>\n",
              "      <td>0</td>\n",
              "      <td>0</td>\n",
              "      <td>0</td>\n",
              "      <td>0</td>\n",
              "    </tr>\n",
              "    <tr>\n",
              "      <th>2</th>\n",
              "      <td>0</td>\n",
              "      <td>0</td>\n",
              "      <td>0</td>\n",
              "      <td>0</td>\n",
              "      <td>0</td>\n",
              "      <td>0</td>\n",
              "      <td>0</td>\n",
              "      <td>0</td>\n",
              "      <td>0</td>\n",
              "      <td>0</td>\n",
              "      <td>0</td>\n",
              "      <td>0</td>\n",
              "      <td>0</td>\n",
              "      <td>1</td>\n",
              "      <td>0</td>\n",
              "      <td>0</td>\n",
              "      <td>0</td>\n",
              "      <td>0</td>\n",
              "      <td>0</td>\n",
              "    </tr>\n",
              "    <tr>\n",
              "      <th>3</th>\n",
              "      <td>0</td>\n",
              "      <td>0</td>\n",
              "      <td>0</td>\n",
              "      <td>0</td>\n",
              "      <td>0</td>\n",
              "      <td>0</td>\n",
              "      <td>0</td>\n",
              "      <td>0</td>\n",
              "      <td>0</td>\n",
              "      <td>1</td>\n",
              "      <td>0</td>\n",
              "      <td>1</td>\n",
              "      <td>0</td>\n",
              "      <td>0</td>\n",
              "      <td>0</td>\n",
              "      <td>0</td>\n",
              "      <td>0</td>\n",
              "      <td>1</td>\n",
              "      <td>0</td>\n",
              "    </tr>\n",
              "    <tr>\n",
              "      <th>4</th>\n",
              "      <td>1</td>\n",
              "      <td>0</td>\n",
              "      <td>0</td>\n",
              "      <td>0</td>\n",
              "      <td>0</td>\n",
              "      <td>0</td>\n",
              "      <td>0</td>\n",
              "      <td>0</td>\n",
              "      <td>0</td>\n",
              "      <td>0</td>\n",
              "      <td>0</td>\n",
              "      <td>1</td>\n",
              "      <td>0</td>\n",
              "      <td>0</td>\n",
              "      <td>1</td>\n",
              "      <td>0</td>\n",
              "      <td>0</td>\n",
              "      <td>0</td>\n",
              "      <td>0</td>\n",
              "    </tr>\n",
              "  </tbody>\n",
              "</table>\n",
              "</div>"
            ],
            "text/plain": [
              "         Television  Accessories  Audio  GPS  Security  Home  Technology  \\\n",
              "item_id                                                                    \n",
              "0                 0            0      1    0         0     0           0   \n",
              "1                 0            1      0    0         0     0           0   \n",
              "2                 0            0      0    0         0     0           0   \n",
              "3                 0            0      0    0         0     0           0   \n",
              "4                 1            0      0    0         0     0           0   \n",
              "\n",
              "         Surveillance  Wearable  Camera  Portable  &  Computers  Headphones  \\\n",
              "item_id                                                                       \n",
              "0                   0         0       0         1  1          0           0   \n",
              "1                   0         0       0         0  1          1           0   \n",
              "2                   0         0       0         0  0          0           1   \n",
              "3                   0         0       1         0  1          0           0   \n",
              "4                   0         0       0         0  1          0           0   \n",
              "\n",
              "         Video  Supplies  Car  Photo  Electronics  \n",
              "item_id                                            \n",
              "0            1         0    0      0            0  \n",
              "1            0         0    0      0            0  \n",
              "2            0         0    0      0            0  \n",
              "3            0         0    0      1            0  \n",
              "4            1         0    0      0            0  "
            ]
          },
          "execution_count": 15,
          "metadata": {},
          "output_type": "execute_result"
        }
      ],
      "source": [
        "content_categories.head()"
      ]
    },
    {
      "cell_type": "code",
      "execution_count": 16,
      "metadata": {},
      "outputs": [],
      "source": [
        "from sklearn.metrics.pairwise import cosine_similarity\n",
        "\n",
        "cosine_sim = cosine_similarity(content_categories, content_categories)"
      ]
    },
    {
      "cell_type": "code",
      "execution_count": 17,
      "metadata": {},
      "outputs": [],
      "source": [
        "def content_recomendation(n_recommendations: int = 5, idx: int = 0) -> None:\n",
        "    # Generar recomendaciones para un Usuario segun el contenido\n",
        "    sim_scores = list(enumerate(cosine_sim[idx]))\n",
        "    sim_scores = sorted(sim_scores, key=lambda x: x[1], reverse=True)\n",
        "    sim_scores = sim_scores[1 : (n_recommendations + 1)]\n",
        "    similars = [i[0] for i in sim_scores]\n",
        "\n",
        "    print(\"Recomendaciones para usuario con el id = 0:\")\n",
        "    for recommendation in df_content[\"item_id\"].iloc[similars]:\n",
        "        print(\"\\t{}\".format(recommendation))"
      ]
    },
    {
      "cell_type": "code",
      "execution_count": 25,
      "metadata": {},
      "outputs": [
        {
          "name": "stdout",
          "output_type": "stream",
          "text": [
            "Recomendaciones para usuario con el id = 0:\n",
            "\t10\n",
            "\t33\n",
            "\t199\n",
            "\t203\n",
            "\t212\n"
          ]
        }
      ],
      "source": [
        "content_recomendation()"
      ]
    },
    {
      "cell_type": "markdown",
      "metadata": {
        "id": "ARmn_6ljFIrw"
      },
      "source": [
        "## **Paso #4:** Construir Sistema de Recomendación por Usuario"
      ]
    },
    {
      "cell_type": "code",
      "execution_count": 18,
      "metadata": {},
      "outputs": [],
      "source": [
        "# TO DO\n",
        "# Crear los modelos de acuerdo a las técnicas (algoritmos) KNN y SVD"
      ]
    },
    {
      "cell_type": "markdown",
      "metadata": {},
      "source": [
        "Creamos la data de entrenamiento y de testeo"
      ]
    },
    {
      "cell_type": "code",
      "execution_count": 19,
      "metadata": {},
      "outputs": [],
      "source": [
        "reader = Reader(rating_scale=(df_ratings.rating.min(), df_ratings.rating.max()))\n",
        "ratings = Dataset.load_from_df(df_ratings,reader)\n",
        "ratings_train, ratings_test = train_test_split(ratings, test_size=0.2)"
      ]
    },
    {
      "cell_type": "code",
      "execution_count": null,
      "metadata": {},
      "outputs": [],
      "source": [
        "# Evaluar los modelos"
      ]
    },
    {
      "cell_type": "markdown",
      "metadata": {},
      "source": [
        "KNN"
      ]
    },
    {
      "cell_type": "code",
      "execution_count": 20,
      "metadata": {
        "id": "vuImos9eSZ1e"
      },
      "outputs": [
        {
          "name": "stdout",
          "output_type": "stream",
          "text": [
            "Computing the msd similarity matrix...\n",
            "Done computing similarity matrix.\n",
            "RMSE on test: 1.3829\n"
          ]
        }
      ],
      "source": [
        "modelKNN = KNNWithMeans(k=5).fit(ratings_train)\n",
        "predictions = modelKNN.test(ratings_test)\n",
        "print(\"RMSE on test: {:.4f}\".format(rmse(predictions, verbose=False)))"
      ]
    },
    {
      "cell_type": "markdown",
      "metadata": {},
      "source": [
        "SVD"
      ]
    },
    {
      "cell_type": "code",
      "execution_count": 21,
      "metadata": {},
      "outputs": [
        {
          "name": "stdout",
          "output_type": "stream",
          "text": [
            "RMSE on test: 1.3096\n"
          ]
        }
      ],
      "source": [
        "from surprise import SVD\n",
        "\n",
        "modelSVD = SVD(n_factors=100, n_epochs=20, random_state=42).fit(ratings_train)\n",
        "predictions = modelSVD.test(ratings_test)\n",
        "print(\"RMSE on test: {:.4f}\".format(rmse(predictions, verbose=False)))"
      ]
    },
    {
      "cell_type": "code",
      "execution_count": null,
      "metadata": {},
      "outputs": [],
      "source": [
        "# Evaluar que modelo resultante ofrece el mejor rendimiento e intentar mejorarlo aplicando hiperparámetros al algoritmo GridSearchCV."
      ]
    },
    {
      "cell_type": "code",
      "execution_count": 23,
      "metadata": {
        "id": "w2wThzprS41e"
      },
      "outputs": [
        {
          "name": "stdout",
          "output_type": "stream",
          "text": [
            "1.3034423369457129\n"
          ]
        }
      ],
      "source": [
        "from surprise.model_selection import GridSearchCV\n",
        "\n",
        "param_grid = {\n",
        "    \"n_factors\": [50, 100, 200],\n",
        "    \"n_epochs\": [20, 30],\n",
        "    \"lr_all\": [0.002, 0.005],\n",
        "    \"reg_all\": [0.02, 0.1]\n",
        "}\n",
        "\n",
        "gs = GridSearchCV(SVD, param_grid, measures=[\"rmse\"], cv=3)\n",
        "gs.fit(ratings)\n",
        "\n",
        "print(gs.best_score[\"rmse\"])"
      ]
    },
    {
      "cell_type": "code",
      "execution_count": 24,
      "metadata": {},
      "outputs": [
        {
          "data": {
            "text/plain": [
              "{'rmse': {'n_factors': 50, 'n_epochs': 30, 'lr_all': 0.005, 'reg_all': 0.1}}"
            ]
          },
          "execution_count": 24,
          "metadata": {},
          "output_type": "execute_result"
        }
      ],
      "source": [
        "gs.best_params"
      ]
    },
    {
      "cell_type": "code",
      "execution_count": 26,
      "metadata": {},
      "outputs": [
        {
          "name": "stdout",
          "output_type": "stream",
          "text": [
            "RMSE on test: 1.3047\n"
          ]
        }
      ],
      "source": [
        "modelSVD = SVD(\n",
        "    n_factors=50, n_epochs=30, lr_all=0.005, reg_all=0.1, random_state=42\n",
        ").fit(ratings_train)\n",
        "predictions = modelSVD.test(ratings_test)\n",
        "print(\"RMSE on test: {:.4f}\".format(rmse(predictions, verbose=False)))"
      ]
    },
    {
      "cell_type": "markdown",
      "metadata": {
        "id": "DU8vEoLKSbp4"
      },
      "source": [
        "## **Paso #5:** Generar recomendaciones para un Usuario"
      ]
    },
    {
      "cell_type": "code",
      "execution_count": 45,
      "metadata": {
        "id": "C3o1YYLmSr8G"
      },
      "outputs": [
        {
          "name": "stdout",
          "output_type": "stream",
          "text": [
            "Recomendation: 4022 (Prediction: 4.45)\n",
            "Recomendation: 6316 (Prediction: 4.32)\n",
            "Recomendation: 3939 (Prediction: 4.31)\n",
            "Recomendation: 8469 (Prediction: 4.28)\n",
            "Recomendation: 2799 (Prediction: 4.28)\n",
            "Recomendation: 9286 (Prediction: 4.26)\n",
            "Recomendation: 269 (Prediction: 4.26)\n",
            "Recomendation: 8629 (Prediction: 4.25)\n",
            "Recomendation: 55 (Prediction: 4.21)\n",
            "Recomendation: 54 (Prediction: 4.21)\n",
            "Recomendation: 82 (Prediction: 4.20)\n",
            "Recomendation: 6804 (Prediction: 4.20)\n",
            "Recomendation: 4903 (Prediction: 4.20)\n",
            "Recomendation: 7605 (Prediction: 4.20)\n",
            "Recomendation: 62 (Prediction: 4.20)\n",
            "Recomendation: 671 (Prediction: 4.19)\n",
            "Recomendation: 1156 (Prediction: 4.19)\n",
            "Recomendation: 1073 (Prediction: 4.18)\n",
            "Recomendation: 720 (Prediction: 4.18)\n",
            "Recomendation: 5270 (Prediction: 4.17)\n"
          ]
        }
      ],
      "source": [
        "# TO DO\n",
        "# Realizar una recomendación a un usuario basado en el filtrado colaborativo.\n",
        "\n",
        "user_id = 0\n",
        "n_recommendations = 20\n",
        "\n",
        "items_to_predict = df_content.item_id.values\n",
        "\n",
        "user_predictions = [modelSVD.predict(user_id, item_id) for item_id in items_to_predict]\n",
        "\n",
        "# Obtén las predicciones para el usuario específico y los ítems dados\n",
        "user_predictions = [modelSVD.predict(user_id, item_id) for item_id in items_to_predict]\n",
        "\n",
        "\n",
        "top_recommendations = sorted(user_predictions, key=lambda x: x.est, reverse=True)[:n_recommendations]\n",
        "\n",
        "for recommendation in top_recommendations:\n",
        "    print(\"Recomendation: {} (Prediction: {:.2f})\".format(recommendation.iid, recommendation.est))"
      ]
    }
  ],
  "metadata": {
    "colab": {
      "provenance": []
    },
    "kernelspec": {
      "display_name": "Python 3",
      "language": "python",
      "name": "python3"
    },
    "language_info": {
      "codemirror_mode": {
        "name": "ipython",
        "version": 3
      },
      "file_extension": ".py",
      "mimetype": "text/x-python",
      "name": "python",
      "nbconvert_exporter": "python",
      "pygments_lexer": "ipython3",
      "version": "3.12.2"
    }
  },
  "nbformat": 4,
  "nbformat_minor": 0
}
