{
  "cells": [
    {
      "cell_type": "markdown",
      "metadata": {
        "id": "lnkrCjG_l8Al",
        "pycharm": {}
      },
      "source": [
        "# 05 - Bag of Words (BoW) - Bolsa de Palabras\n",
        "\n",
        "* La Bolsa de Palabras (***BoW***) es un modelo que se utiliza para simplificar el contenido de un documento (o conjunto de documentos) omitiendo la gramática y el orden de las palabras, centrándose solo en el número de ocurrencias de palabras dentro del texto (o corpus).\n",
        "\n",
        "\n",
        "* A continuación se muestra con código python como obtendríamos una bolsa de palabras a partir del siguiente \"corpus\":"
      ]
    },
    {
      "cell_type": "code",
      "execution_count": null,
      "metadata": {
        "colab": {
          "base_uri": "https://localhost:8080/"
        },
        "id": "kkZCjEmHvpFS",
        "outputId": "258731bc-87e8-41e1-871e-0a0e8e7e2795"
      },
      "outputs": [],
      "source": [
        "import wordcloud\n",
        "import nltk\n",
        "from nltk import word_tokenize\n",
        "nltk.download('stopwords')\n",
        "nltk.download('wordnet')\n",
        "nltk.download('punkt')\n",
        "nltk.download('omw-1.4')\n",
        "nltk.download('averaged_perceptron_tagger')"
      ]
    },
    {
      "cell_type": "code",
      "execution_count": null,
      "metadata": {
        "colab": {
          "base_uri": "https://localhost:8080/"
        },
        "id": "pgXGXkasl8Ap",
        "outputId": "c16bfd96-b815-4ec5-bf12-b3b3f5883b2a",
        "pycharm": {}
      },
      "outputs": [],
      "source": [
        "documents = [\"balon balon balon futbol futbol liga liga liga ronaldo ronaldo ronaldo messi\",\n",
        "            \"futbol futbol futbol futbol futbol ronaldo ronaldo ronaldo ronaldo messi messi\",\n",
        "            \"balon balon futbol futbol futbol futbol futbol futbol messi messi messi messi\",\n",
        "            \"politica politica politica pp pp pp pp pp pp rajoy rajoy rajoy rajoy rajoy\",\n",
        "            \"politica politica politica politica pp pp psoe psoe psoe psoe zapatero zapatero rajoy\",\n",
        "            \"politica politica politica psoe psoe psoe psoe zapatero zapatero zapatero zapatero \",\n",
        "            \"dinero fmi fmi fmi fmi fmi ue ue ue ue pib pib pib ibex ibex\",\n",
        "            \"zapatero rajoy dinero dinero dinero dinero fmi fmi fmi fmi ue ue ue ue pib\",\n",
        "            \"pp psoe zapatero rajoy dinero dinero dinero dinero fmi fmi fmi fmi ue ue ue \",\n",
        "            \"futbol politica pib\",\n",
        "            \"futbol liga politica zapatero rajoy\"]\n",
        "\n",
        "# Construimos la bolsa de palabras\n",
        "bow = dict()\n",
        "for doc in documents:\n",
        "    doc = doc.split(' ')\n",
        "    for word in doc:\n",
        "        if word in bow:\n",
        "            bow[word] += 1\n",
        "        else:\n",
        "            bow[word] = 1\n",
        "print(bow)"
      ]
    },
    {
      "cell_type": "markdown",
      "metadata": {
        "id": "9AHO9V-Cl8Ar",
        "pycharm": {}
      },
      "source": [
        "* La construcción de las bolsas de palabras no solo se centran en la frecuencia si no que existen otras maneras de asignar un \"peso\" o \"importancia\" dentro del documento o del corpus a las palabras.\n",
        "\n",
        "\n",
        "* Aunque existen más formas de construir bolsas de palabras, las más utilizadas son las siguiente:\n",
        "\n",
        "    1. Vectores de Frecuencias\n",
        "    2. One-Hot-Encode\n",
        "    3. Term Frequency-Inverse Document Frequency (TF-IDF)\n",
        "    \n",
        "    \n",
        "* Veamos a continuación como implementar estas bolsas de palabras con las siguientes librerías:\n",
        "\n",
        "    * ***scikit***\n",
        "    * ***NLTK***\n",
        "    * ***Gensim***\n",
        "    \n",
        "    \n",
        "<hr>\n",
        "\n",
        "\n",
        "# 1.- Vectores de Frecuencias\n",
        "\n",
        "* Los ***vectores de frecuencias*** es el método más trivial de construir las ***Bolsas de Palabras***.\n",
        "\n",
        "\n",
        "* Simplemente consiste en contar cuantas veces aparece una palabra en el documento del corpus.\n",
        "\n",
        "\n",
        "### -Scikit\n",
        "\n",
        "* Esta librería devuelve una matriz en la que las **filas representan a cada documento del corpus** y las **columnas el número de apariciones de las palabras**.\n",
        "\n",
        "\n",
        "* Para saber que palabra corresponde a cada columan de la matriz, scikit nos devuelve una lista en la que coinciden los indice de cada una de las palabras de la lista con la matriz.\n",
        "\n",
        "\n",
        "* Para más información ver el siguiente enlace: https://scikit-learn.org/stable/modules/generated/sklearn.feature_extraction.text.CountVectorizer.html\n"
      ]
    },
    {
      "cell_type": "code",
      "execution_count": null,
      "metadata": {
        "colab": {
          "base_uri": "https://localhost:8080/"
        },
        "id": "WFuWVTwal8As",
        "outputId": "b75de471-f8c2-490c-9e23-2ede6308c9d1",
        "pycharm": {}
      },
      "outputs": [],
      "source": [
        "from sklearn.feature_extraction.text import CountVectorizer\n",
        "\n",
        "vectorizer = CountVectorizer()\n",
        "vectors = vectorizer.fit_transform(documents)\n",
        "\n",
        "# Resultados\n",
        "print(vectorizer.get_feature_names_out())\n",
        "print(vectors.toarray())"
      ]
    },
    {
      "cell_type": "markdown",
      "metadata": {
        "id": "1UtSQHxUl8As",
        "pycharm": {}
      },
      "source": [
        "### -NLTK\n",
        "\n",
        "* NLTK trabajar con diccionarios (un diccionario por documento) cuyas claves son las palabras y los valores son el número de apariciones de esa palabra en el documento."
      ]
    },
    {
      "cell_type": "code",
      "execution_count": null,
      "metadata": {
        "colab": {
          "base_uri": "https://localhost:8080/"
        },
        "id": "N_Jyjz5el8At",
        "outputId": "b2372140-dcfb-4214-e32c-05ac6934533d",
        "pycharm": {}
      },
      "outputs": [],
      "source": [
        "import nltk\n",
        "from collections import defaultdict\n",
        "\n",
        "def tokenize(text):\n",
        "    for token in nltk.word_tokenize(text):\n",
        "        yield token\n",
        "\n",
        "def vectorize(corpus):\n",
        "    features = defaultdict(int)\n",
        "    for token in tokenize(corpus):\n",
        "        features[token] += 1\n",
        "    return features\n",
        "\n",
        "vectors = map(vectorize, documents)\n",
        "\n",
        "# Resultados\n",
        "for v in vectors:\n",
        "    print(v)"
      ]
    },
    {
      "cell_type": "markdown",
      "metadata": {
        "id": "18AUo80ol8At",
        "pycharm": {}
      },
      "source": [
        "### -Gensim\n",
        "\n",
        "* ***Gensim trabaja con \"Diccionarios\"*** (gensim.corpora.Dictionary) que es una estructura de datos en la que guarda el orden de las palabras que hay en el corpus.\n",
        "\n",
        "\n",
        "* Posteriormente se construye la Bolsa de Palabras con las frecuencias con la función \"***doc2bow***\"\n",
        "\n",
        "\n",
        "* Como resultado devuelve una lista por cada documento en la que se indicida por cada palabra del documento identificada por el 'id' del diccionario previamente construido la frecuencia de esa palabra en el documento.\n",
        "\n",
        "\n",
        "* Para más información ver el siguiente enlace: https://radimrehurek.com/gensim/corpora/dictionary.html"
      ]
    },
    {
      "cell_type": "code",
      "execution_count": 4,
      "metadata": {
        "colab": {
          "base_uri": "https://localhost:8080/"
        },
        "id": "PT5vYJxCl8Au",
        "outputId": "94eb4326-59de-4171-9876-9084b377461e"
      },
      "outputs": [
        {
          "ename": "ModuleNotFoundError",
          "evalue": "No module named 'gensim'",
          "output_type": "error",
          "traceback": [
            "\u001b[0;31m---------------------------------------------------------------------------\u001b[0m",
            "\u001b[0;31mModuleNotFoundError\u001b[0m                       Traceback (most recent call last)",
            "Cell \u001b[0;32mIn[4], line 2\u001b[0m\n\u001b[1;32m      1\u001b[0m \u001b[38;5;28;01mimport\u001b[39;00m \u001b[38;5;21;01mnltk\u001b[39;00m\n\u001b[0;32m----> 2\u001b[0m \u001b[38;5;28;01mimport\u001b[39;00m \u001b[38;5;21;01mgensim\u001b[39;00m\n\u001b[1;32m      4\u001b[0m tokenize \u001b[38;5;241m=\u001b[39m [nltk\u001b[38;5;241m.\u001b[39mword_tokenize(text) \u001b[38;5;28;01mfor\u001b[39;00m text \u001b[38;5;129;01min\u001b[39;00m documents]\n\u001b[1;32m      5\u001b[0m \u001b[38;5;66;03m# dictionary = corpora.Dictionary(tokenize)\u001b[39;00m\n",
            "\u001b[0;31mModuleNotFoundError\u001b[0m: No module named 'gensim'"
          ]
        }
      ],
      "source": [
        "import nltk\n",
        "import gensim\n",
        "\n",
        "tokenize = [nltk.word_tokenize(text) for text in documents]\n",
        "# dictionary = corpora.Dictionary(tokenize)\n",
        "vectors = [gensim.corpora.Dictionary.doc2bow(token) for token in tokenize]\n",
        "\n",
        "# Resultados\n",
        "print('Diccionario de palabras -> palabra: frecuencia\\n')\n",
        "print(dictionary.token2id)\n",
        "print('\\nApariciones de las palabras en los documentos:')\n",
        "vectors"
      ]
    },
    {
      "cell_type": "markdown",
      "metadata": {
        "id": "wzj4MDghl8Au",
        "pycharm": {
          "name": "#%% md\n"
        }
      },
      "source": [
        "<hr>\n",
        "\n",
        "\n",
        "# 2.- One-Hot-Encode\n",
        "\n",
        "* Este método de construcción de la ***Bolsa de Palabras*** consiste en indicar con un flag ([0,1], [True, False], etc.) si una palabra aparece o no en el documento.\n",
        "\n",
        "\n",
        "### -Scikit\n",
        "\n",
        "* Las estructuras de datos de salida de ***Scikit*** son iguales de en el caso de la construcción del vector de frecuencias salvo que en el contenido de la matriz solo hay ceros y unos.\n",
        "\n",
        "\n",
        "* Para más información ver el siguiente enlace: https://scikit-learn.org/stable/modules/generated/sklearn.preprocessing.Binarizer.html#sklearn.preprocessing.Binarizer\n"
      ]
    },
    {
      "cell_type": "code",
      "execution_count": null,
      "metadata": {
        "colab": {
          "base_uri": "https://localhost:8080/"
        },
        "id": "PrlmbHQsl8Av",
        "outputId": "d154ecd5-e07c-43bd-e2ad-8567fc95c1e9",
        "pycharm": {
          "metadata": false,
          "name": "#%%\n"
        }
      },
      "outputs": [],
      "source": [
        "from sklearn.feature_extraction.text import CountVectorizer\n",
        "from sklearn.preprocessing import Binarizer\n",
        "\n",
        "\n",
        "vectorizer = CountVectorizer()\n",
        "corpus = vectorizer.fit_transform(documents)\n",
        "\n",
        "onehot = Binarizer()\n",
        "corpus = onehot.fit_transform(corpus.toarray())\n",
        "\n",
        "# Resultados\n",
        "print(vectorizer.get_feature_names_out())\n",
        "print(corpus)"
      ]
    },
    {
      "cell_type": "markdown",
      "metadata": {
        "id": "dexKPVVBl8Av",
        "pycharm": {
          "metadata": false
        }
      },
      "source": [
        "### -NLTK\n",
        "\n",
        "* La estructura de datos de salida de ***NLTK*** es la misma que en el caso de la construcción del vector de frecuencias salvo que los valores del diccionario son ***booleanos*** en vez de numéricos."
      ]
    },
    {
      "cell_type": "code",
      "execution_count": null,
      "metadata": {
        "colab": {
          "base_uri": "https://localhost:8080/"
        },
        "id": "-9fmayJVl8Aw",
        "outputId": "cea58df7-9ec9-42ef-9b70-2b09ede3aee8",
        "pycharm": {
          "metadata": false,
          "name": "#%%\n"
        }
      },
      "outputs": [],
      "source": [
        "import nltk\n",
        "\n",
        "def tokenize(text):\n",
        "    for token in nltk.word_tokenize(text):\n",
        "        yield token\n",
        "\n",
        "def vectorize(corpus):\n",
        "    return {token: True for token in tokenize(corpus)}\n",
        "\n",
        "vectors = map(vectorize, documents)\n",
        "\n",
        "# Resultados\n",
        "for v in vectors:\n",
        "    print(v)"
      ]
    },
    {
      "cell_type": "markdown",
      "metadata": {
        "id": "PAKr8sTSl8Aw",
        "pycharm": {
          "metadata": false
        }
      },
      "source": [
        "### -Gensim\n",
        "\n",
        "* La estructura de datos de salida de ***Gensim*** es la misma que en el caso de la construcción de la Bolsa de Palabras de frecuencias salvo que los valores de las palabras en los documentos solo tendrán valor '1'.\n",
        "\n",
        "\n",
        "* Para más información ver el siguiente enlace: https://radimrehurek.com/gensim/corpora/dictionary.html"
      ]
    },
    {
      "cell_type": "code",
      "execution_count": null,
      "metadata": {
        "colab": {
          "base_uri": "https://localhost:8080/"
        },
        "id": "GGqAudU7l8Aw",
        "outputId": "54ec6238-5465-4bd1-8375-7ff3b26cb157",
        "pycharm": {}
      },
      "outputs": [],
      "source": [
        "import nltk\n",
        "import gensim\n",
        "\n",
        "tokenize = [nltk.word_tokenize(text) for text in documents]\n",
        "dictionary = gensim.corpora.Dictionary(tokenize)\n",
        "vectors = [[(token[0], 1) for token in dictionary.doc2bow(doc)] for doc in tokenize]\n",
        "\n",
        "# Resultados\n",
        "print('Diccionario de palabras -> palabra: id\\n')\n",
        "print(dictionary.token2id)\n",
        "print('\\nApariciones de las palabras en los documentos (id, 1):')\n",
        "vectors"
      ]
    },
    {
      "cell_type": "markdown",
      "metadata": {
        "id": "-xi6OxsUl8Ax",
        "pycharm": {
          "metadata": false
        }
      },
      "source": [
        "<hr>\n",
        "\n",
        "\n",
        "# 3.- Term Frequency-Inverse Document Frequency (TF-IDF)\n",
        "\n",
        "\n",
        "* El TF-IDF (Frecuencia de Termino - Frecuencia Inversa de Documento) es una medida numérica que permite expresar como de relevante es una palabra para un documento en una colección de documentos (o corpus).\n",
        "\n",
        "\n",
        "* Construir la Bolsa de Palabras con TF-IDF en vez de con frecuencias evita dar \"importancia\" a texto muy largos y con mucha repetición de palabras, frente a textos cortos y con pocas repeticiones de palabras.\n",
        "\n",
        "\n",
        "* La media de ***TF-IDF*** tiene dos componentes que son:\n",
        "    \n",
        "    * ***TF*** (Term Frecuency): Es la frecuencia con la que aparece la palabra en un documento del corpus. Esta se define como:\n",
        "    \n",
        "    $$tf(t,d) = 1 + log(f_{t,d})$$\n",
        "    \n",
        "    * ***IDF*** (Inverse Document Frequency): La frecuencia inversa del documento nos indica lo común que es una palabra en el corpus.\n",
        "    \n",
        "    $$idf(t,D) = log(1 + \\frac{N}{n_t})$$\n",
        "    \n",
        "\n",
        "* ***TF-IDF*** queda definido como:\n",
        "$$tfidf(t,d,D) = tf(t,d) \\cdot idf(t,D)$$\n",
        "\n",
        "\n",
        "\n",
        "### Ejemplos:\n",
        "\n",
        "* Veamos un ejemplo dado el siguiente corpus de 2 documentos con las siguientes palabras:\n",
        "\n",
        "```\n",
        "corpus = [\"messi messi messi ronaldo ronaldo balon\",\n",
        "          \"messi ronaldo futbol futbol futbol\"]\n",
        "```\n",
        "\n",
        "* ***Ejemplo 1***: Calculamos el ***tf-idf*** de la palabra \"**messi**\" para el documento 1:\n",
        "    \n",
        "    * ***TF***:\n",
        "        - t: número de veces que aparece la palabra \"messi\" en el documento 1 -> 3\n",
        "        - d: número de palabras que tiene el documento 1 -> 6\n",
        "        $$tf(t,d) = 1 + log(\\frac{3}{6}) =  0,69$$\n",
        "        \n",
        "    * ***IDF***:\n",
        "        - n<sub>t</sub>: número de documentos en los que aparece la palabra 'messi' -> 2\n",
        "        - D: número total de documentos en el corpus -> 2\n",
        "        $$idf(t,D) = log(1 + \\frac{2}{2}) = 0,3$$\n",
        "        \n",
        "    * ***TF-IDF***:\n",
        "    $$tfidf(t,d,D) = tf(t,d) \\cdot idf(t,D) = 0,69 * 0,3 = 0,21$$\n",
        "    \n",
        "    \n",
        "* ***Ejemplo 2***: Calculamos el ***tf-idf*** de la palabra \"**futbol**\" para el documento 2:\n",
        "    \n",
        "    * ***TF***:\n",
        "        - t: número de veces que aparece la palabra \"futbol\" en el documento 2 -> 3\n",
        "        - d: número de palabras que tiene el documento 1 -> 5\n",
        "        $$tf(t,d) = 1 + log(\\frac{3}{5}) =  0,78$$\n",
        "        \n",
        "    * ***IDF***:\n",
        "        - n<sub>t</sub>: número de documentos en los que aparece la palabra 'futbol' -> 1\n",
        "        - D: número total de documentos en el corpus -> 2\n",
        "        $$idf(t,D) = log(1 + \\frac{2}{1}) = 0,48$$\n",
        "        \n",
        "    * ***TF-IDF***:\n",
        "    $$tfidf(t,d,D) = tf(t,d) \\cdot idf(t,D) = 0,78 * 0,48 = 0,37$$\n",
        "        \n",
        "\n",
        "## Implementación:\n",
        "\n",
        "\n",
        "* El ejemplo mostrado anteriormente se ha realizado sobre el un TF-IDF teórico, calculando la frecuencia escalada logaritmicamente y sobre un corpus de \"juguete\" para entender el concepto.\n",
        "\n",
        "\n",
        "* Las implementaciones del ***TF-IDF*** de **Scikit** y **Gensim** estan pensadas para corpus con un número relevante de documentos y de palabras, por tanto la implementación del ***TF-IDF*** acepta una serie de parámetros para no tener en cuenta Stop Words, palabras irrelevantes, etc. por lo que si se realiza una implementación del ***TF-IDF*** según la bibliografia no van a conincidir los resultados de esa implementación con los resultados de las librerías de **Scikit** y **Gensim** a no ser que se modifiquen los parámetros de las funciones del ***TF-IDF***.\n",
        "\n",
        "\n",
        "### -Scikit\n",
        "\n",
        "* Las estructuras de datos de salida de ***Scikit*** son iguales de en el caso de la construcción del vector de frecuencias salvo que en el contenido de la matriz será de números decimales en vez de números enteros.\n",
        "\n",
        "\n",
        "* Para más información ver el siguiente enlace: https://scikit-learn.org/stable/modules/generated/sklearn.feature_extraction.text.TfidfVectorizer.html"
      ]
    },
    {
      "cell_type": "code",
      "execution_count": null,
      "metadata": {
        "colab": {
          "base_uri": "https://localhost:8080/"
        },
        "id": "dNoyyTBwl8Ax",
        "outputId": "3c40a1fa-fbb4-443f-b797-6bc97de36bc5",
        "pycharm": {
          "metadata": false,
          "name": "#%%\n"
        }
      },
      "outputs": [],
      "source": [
        "from sklearn.feature_extraction.text import TfidfVectorizer\n",
        "\n",
        "tfidf = TfidfVectorizer()\n",
        "corpus = tfidf.fit_transform(documents)\n",
        "\n",
        "# Resultados\n",
        "print(tfidf.get_feature_names_out())\n",
        "print(corpus.toarray())"
      ]
    },
    {
      "cell_type": "markdown",
      "metadata": {
        "id": "WZLd9N_Ll8Ay",
        "pycharm": {
          "metadata": false
        }
      },
      "source": [
        "### -Gensim\n",
        "\n",
        "* La estructura de datos de salida de ***Gensim*** es la misma que en el caso de la construcción de la Bolsa de Palabras de frecuencias salvo que los valores de las palabras en los documentos tendrán números decimales en vez de números enteros.\n",
        "\n",
        "\n",
        "* Para más información ver el siguiente enlace: https://radimrehurek.com/gensim/models/tfidfmodel.html"
      ]
    },
    {
      "cell_type": "code",
      "execution_count": null,
      "metadata": {
        "colab": {
          "base_uri": "https://localhost:8080/"
        },
        "id": "1uT42Nvxl8Ay",
        "outputId": "b6a1f105-eb49-4a5a-ee73-22a663464895",
        "pycharm": {
          "metadata": false,
          "name": "#%%\n"
        }
      },
      "outputs": [],
      "source": [
        "import nltk\n",
        "import gensim\n",
        "\n",
        "tokenize = [nltk.word_tokenize(text) for text in documents]\n",
        "dictionary = gensim.corpora.Dictionary(tokenize)\n",
        "tfidf = gensim.models.TfidfModel(dictionary=dictionary, normalize=True)\n",
        "vectors = [tfidf[dictionary.doc2bow(doc)] for doc in tokenize]\n",
        "\n",
        "# Resultados\n",
        "print('Diccionario de palabras -> palabra: id\\n')\n",
        "print(dictionary.token2id)\n",
        "print('\\nApariciones de las palabras en los documentos (id, tfidf):')\n",
        "vectors"
      ]
    }
  ],
  "metadata": {
    "colab": {
      "name": "05_Bag_of_Words_BoW.ipynb",
      "provenance": []
    },
    "kernelspec": {
      "display_name": "Python 3",
      "language": "python",
      "name": "python3"
    },
    "language_info": {
      "codemirror_mode": {
        "name": "ipython",
        "version": 3
      },
      "file_extension": ".py",
      "mimetype": "text/x-python",
      "name": "python",
      "nbconvert_exporter": "python",
      "pygments_lexer": "ipython3",
      "version": "3.11.2"
    }
  },
  "nbformat": 4,
  "nbformat_minor": 0
}
