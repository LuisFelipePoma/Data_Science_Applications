{
  "cells": [
    {
      "cell_type": "markdown",
      "metadata": {
        "id": "8s5nCinsekxQ"
      },
      "source": [
        "# Conceptos para el Procesamiento del Lenguaje Natural con spaCy\n",
        "\n",
        "* ***spaCy*** es una librería de código abierto en python para el Procesamiento del Lenguaje natural que posee modelos entrenados para varios idiomas, entre ellos el Español.\n",
        "\n",
        "\n",
        "* Es una librería pensada para funcionar en entornos productivos y es una librería con mejor rendimiento que **NLTK**.\n",
        "\n",
        "\n",
        "* Dispone de una web y de una documentación muy buena, incluso se pueden ejecutar ciertos ejemplos en la propia web: https://spacy.io/\n",
        "\n",
        "\n",
        "* Dispone también de un curso online (https://course.spacy.io/) bastante interesante.\n",
        "\n",
        "\n",
        "* Entre otras cosas con ***spaCy*** podemos hacer:\n",
        "    1. Tokenización\n",
        "    2. Lematización\n",
        "    3. Detección de Stop Words\n",
        "    4. Part of Speech (PoS)\n",
        "    5. Named Entity Recognition (NER)\n",
        "\n",
        "\n",
        "* ***spaCy*** puede ser instalado tanto con \"pip\" como con \"conda\" de la siguiente manera respectivamente:\n",
        "\n",
        "```\n",
        ">> pip install spacy\n",
        ">> conda install spacy\n",
        "```\n",
        "\n",
        "\n",
        "* Como se ha comentado anteriormente la ventaja que tiene ***spaCy*** frente a ***NLTK*** en lo que a idiomas se refiere es que permite trabajar con varior idiomas gracias a los modelos que tiene entrenados.\n",
        "\n",
        "\n",
        "* En particular para el Español ***spaCy*** tiene entrenados dos modelos (con Redes Neuronales Convolucionales según su documentación) de pequeño y mediano tamaño con los corpus de **AnCora** (http://clic.ub.edu/corpus/es/ancora) y **WikiNER**.\n",
        "\n",
        "\n",
        "* Estos dos modelos de pequeño y mediano tamaño los podemos encontrar en la web de ***spaCy*** (https://spacy.io/models/es) y son los siguientes:\n",
        "    - es_core_news_md (93 MiB)\n",
        "    - es_core_news_sm (35 MiB)\n",
        "\n",
        "\n",
        "* ***spaCy*** hace uso de estos modelos y tienen que ser descargados, para ello debemos de abrir un terminal en python y ejecutar lo siguiente para descargar el modelo en Español (*NOTA: los que uséis conda, tener activado el entorno*).\n",
        "\n",
        "\n",
        "```\n",
        ">> python3 -m spacy download es\n",
        "```\n",
        "\n",
        "\n",
        "\n"
      ]
    },
    {
      "cell_type": "code",
      "execution_count": null,
      "metadata": {
        "colab": {
          "base_uri": "https://localhost:8080/"
        },
        "id": "kBGpB5mNekxU",
        "outputId": "04f4e8bd-9fe7-4a11-d650-0d21c18debd8"
      },
      "outputs": [],
      "source": [
        "# %pip install spacy\n",
        "# !python -m spacy download es"
      ]
    },
    {
      "cell_type": "markdown",
      "metadata": {
        "id": "bC2YzlBPekxV"
      },
      "source": [
        "<hr>\n",
        "\n",
        "\n",
        "# spaCy - Arquitectura:\n",
        "\n",
        "* ***spaCy*** utiliza dos tipos de estructuras (objetos) llamados **Doc** y **Vocab**:\n",
        "<span></span><br><br>\n",
        "    - ***Doc***: Este objeto esta formado por una secuencia de Tokens (objetos de la clase ***Token***).\n",
        "<span></span><br><br>\n",
        "    - ***Vocab***: Este objeto posee un conjunto de Look-up tables (tablas de consulta) que hacen que la información común esté disponible en todos los documentos (Lemas, Stop Words, PoS, etc.).\n",
        "\n",
        "<img src=\"./imgs/006_spacy_architecture.png\" style=\"width: 600px;\"/>\n",
        "\n",
        "\n",
        "* Una forma sencilla de trabajar con ***spaCy*** es:\n",
        "    1. Cargar un modelo de lenguaje (por ejemplo el Español)\n",
        "    2. Dado un texto plano, crear un objeto de la clase \"Doc\" y pasarle el texto plano. El texto ya quedará tokenizado dentro del objeto \"Doc\".\n",
        "    3. Trabajar sobre las palabras del documento.\n",
        "\n",
        "<hr>\n",
        "\n",
        "\n",
        "\n",
        "# Ejemplos con spaCy"
      ]
    },
    {
      "cell_type": "markdown",
      "metadata": {
        "id": "nF0Pm-SmekxW"
      },
      "source": [
        "## -Tokenización\n",
        "\n",
        "\n",
        "* Divide las cadenas de texto del documento en piezas más pequeñas o tokens.\n",
        "\n",
        "\n",
        "* Pasos:\n",
        "    1. Importar la librería.\n",
        "    2. Cargar un modelo de lenguaje (el Español).\n",
        "    3. Crear un documento (de la clase \"Doc\") pasándole un texto plano.\n",
        "    4. El objeto de la clase \"Doc\" ya esta tokenizado por palabras y podemos iterar sobre él."
      ]
    },
    {
      "cell_type": "code",
      "execution_count": 3,
      "metadata": {
        "colab": {
          "base_uri": "https://localhost:8080/"
        },
        "id": "oKrgMyzlekxW",
        "outputId": "4ef80568-bd45-4415-b101-632041c3767c"
      },
      "outputs": [
        {
          "name": "stdout",
          "output_type": "stream",
          "text": [
            "Tipo de dato: <class 'spacy.tokens.doc.Doc'>\n",
            "['La', 'UPC', 'es', 'una', 'institución', 'educativa', 'basada', 'en', 'la', 'exigencia', 'e', 'innovación', 'orientada', 'a', 'formar', 'a', 'líderes', 'íntegros', 'que', 'transformen', 'el', 'Perú', '.']\n"
          ]
        }
      ],
      "source": [
        "import spacy\n",
        "nlp = spacy.load('es_core_news_sm')\n",
        "doc = nlp(\"La UPC es una institución educativa basada en la exigencia e innovación orientada a formar a líderes íntegros que transformen el Perú.\")\n",
        "print('Tipo de dato: ' + str(type(doc)))\n",
        "print([w.text for w in doc])"
      ]
    },
    {
      "cell_type": "markdown",
      "metadata": {
        "id": "kzwUwpauekxX"
      },
      "source": [
        "## -Segmentación\n",
        "\n",
        "\n",
        "* La ***segmentación*** divide las cadenas de texto en frases o párrafos.\n",
        "\n",
        "\n",
        "* Para la segmentación en spaCy hay que usar un componente llamado \"**sentencier**\" que divide los textos por simbolos como puntos, interrogantes, etc."
      ]
    },
    {
      "cell_type": "code",
      "execution_count": 4,
      "metadata": {
        "colab": {
          "base_uri": "https://localhost:8080/"
        },
        "id": "C_W2EAI_ekxX",
        "outputId": "982749e3-cf42-4215-a3df-36b69fb03f31"
      },
      "outputs": [
        {
          "name": "stdout",
          "output_type": "stream",
          "text": [
            "['Frase numero 1.', 'Frase número 2?', 'Frase 3']\n"
          ]
        }
      ],
      "source": [
        "from spacy.pipeline import Sentencizer\n",
        "sentencizer = Sentencizer()\n",
        "doc = nlp(\"Frase numero 1. Frase número 2? Frase 3\")\n",
        "print([s.text for s in doc.sents])"
      ]
    },
    {
      "cell_type": "markdown",
      "metadata": {
        "id": "-q19ZzhZekxY"
      },
      "source": [
        "## -Stemming\n",
        "\n",
        "* ***Funcionalidad no disponoble en spaCy***"
      ]
    },
    {
      "cell_type": "markdown",
      "metadata": {
        "id": "-kd_zo5mekxY"
      },
      "source": [
        "## -Lematización\n",
        "\n",
        "\n",
        "* Proceso lingüístico que sustituye una palabra con forma flexionada (plurales, femeninos, verbos conjugados, etc.) por su lema; es decir, por una palabra válida en el idioma.\n",
        "\n",
        "\n",
        "* ***spaCy*** hace una lematización muy buena en Español.\n",
        "\n",
        "\n",
        "* Los objetos de la clase ***Token*** tienen la propiedad (o atributo) ***lema_*** que nos devuelve el lema del token (o la palabra)."
      ]
    },
    {
      "cell_type": "code",
      "execution_count": 5,
      "metadata": {
        "colab": {
          "base_uri": "https://localhost:8080/"
        },
        "id": "BrPiKqqRekxZ",
        "outputId": "1125375f-4768-4dd6-89f8-7b648248669b"
      },
      "outputs": [
        {
          "name": "stdout",
          "output_type": "stream",
          "text": [
            "La - el\n",
            "UPC - UPC\n",
            "es - ser\n",
            "una - uno\n",
            "institución - institución\n",
            "educativa - educativo\n",
            "basada - basado\n",
            "en - en\n",
            "la - el\n",
            "exigencia - exigencia\n",
            "e - e\n",
            "innovación - innovación\n",
            "orientada - orientado\n",
            "a - a\n",
            "formar - formar\n",
            "a - a\n",
            "líderes - líder\n",
            "íntegros - íntegro\n",
            "que - que\n",
            "transformen - transformar\n",
            "el - el\n",
            "Perú - Perú\n",
            ". - .\n"
          ]
        }
      ],
      "source": [
        "doc = nlp(\"La UPC es una institución educativa basada en la exigencia e innovación orientada a formar a líderes íntegros que transformen el Perú.\")\n",
        "for word in doc:\n",
        "    print(word.text + ' - ' + word.lemma_)"
      ]
    },
    {
      "cell_type": "markdown",
      "metadata": {
        "id": "wxE1UqciekxZ"
      },
      "source": [
        "## -Stop words\n",
        "\n",
        "* Son las palabras que no aportan nada al significado de la frase.\n",
        "\n",
        "\n",
        "* spaCy dispone de más de 500 stop words en Español.\n",
        "\n",
        "\n",
        "* Veamos a continuación las Stop Words en Español."
      ]
    },
    {
      "cell_type": "code",
      "execution_count": 6,
      "metadata": {
        "colab": {
          "base_uri": "https://localhost:8080/"
        },
        "id": "AvrucUGgekxa",
        "outputId": "b9536f53-8c49-49d4-f176-1fd25ef5bbbe"
      },
      "outputs": [
        {
          "name": "stdout",
          "output_type": "stream",
          "text": [
            "Número de stop words: 521\n",
            "Stop words: ['dado', 'tienen', 'puede', 'proximo', 'vuestra', 'aquél', 'apenas', 'donde', 'están', 'incluso', 'algunos', 'a', 'repente', 'usa', 'y', 'así', 'buen', 'enfrente', 'realizado', 'atras', 'grandes', 'en', 'alguna', 'ahí', 'hasta', 'entonces', 'cuenta', 'era', 'expresó', 'mejor', 'nuestras', 'nuestra', 'había', 'informo', 'dijeron', 'misma', 'breve', 'ninguna', 'ir', 'varias', 'bajo', 'hacer', 'quizás', 'parte', 'podría', 'pronto', 'pasada', 'señaló', 'verdad', 'ha', 'hemos', 'mismas', 'está', 'otros', 'segunda', 'menudo', 'cuántos', 'estan', 'quienes', 'vamos', 'trata', 'cuales', 'cuál', 'próximo', 'pudo', 'también', 'qué', 'cuatro', 'va', 'ésos', 'tambien', 'voy', 'cuantos', 'grande', 'estais', 'mencionó', 'sí', 'tener', 'pocas', 'pocos', 'tuyos', 'antes', 'ahi', 'tendrán', 'ello', 'uso', 'ante', 'eso', 'saben', 'luego', 'aún', 'sois', 'diez', 'buenas', 'detrás', 'cuáles', 'lleva', 'tercera', 'comentó', 'tenemos', 'poner', 'nueve', 'fue', 'siendo', 'dia', 'siete', 'ésta', 'hacemos', 'podrían', 'unas', 'final', 'sido', 'algo', 'haceis', 'veces', 'mal', 'detras', 'tus', 'o', 'usais', 'ademas', 'te', 'afirmó', 'fin', 'ambos', 'encuentra', 'sería', 'delante', 'primero', 'aquélla', 'alguno', 'mis', 'segundo', 'acuerdo', 'ultimo', 'tenía', 'últimas', 'debe', 'estará', 'somos', 'un', 'estoy', 'vais', 'todo', 'mios', 'nuestro', 'deprisa', 'aquel', 'tal', 'nunca', 'estados', 'le', 'esos', 'debido', 'aquéllos', 'todavía', 'informó', 'poder', 'estamos', 'esto', 'nueva', 'tú', 'algunas', 'podrán', 'todos', 'habrá', 'esta', 'fueron', 'sean', 'lado', 'tampoco', 'ningunos', 'siguiente', 'qeu', 'hago', 'adelante', 'agregó', 'todas', 'sola', 'anterior', 'mía', 'de', 'porque', 'suya', 'mayor', 'sabemos', 'éstas', 'esa', 'cuantas', 'hace', 'después', 'hecho', 'usted', 'propia', 'alrededor', 'verdadero', 'diferentes', 'considera', 'cualquier', 'estado', 'muchos', 'hizo', 'podrá', 'despues', 'dónde', 'muchas', 'cuanta', 'parece', 'quizas', 'claro', 'suyos', 'alli', 'pero', 'bien', 'primer', 'sabeis', 'tengo', 'nos', 'haciendo', 'teneis', 'nuevas', 'podriamos', 'total', 'consigue', 'vuestros', 'sólo', 'once', 'solo', 'el', 'se', 'tuyas', 'junto', 'fui', 'quiénes', 'aquí', 'partir', 'ése', 'fuera', 'cual', 'deben', 'cómo', 'encima', 'vuestras', 'estas', 'eras', 'día', 'primera', 'tercero', 'ni', 'aquella', 'dan', 'dejó', 'estaba', 'último', 'quiza', 'asi', 'ésas', 'todavia', 'tuya', 'aquello', 'ese', 'mucho', 'menos', 'sé', 'segun', 'cada', 'consigues', 'contra', 'hacen', 'modo', 'mismos', 'demasiado', 'puedo', 'solos', 'eramos', 'éste', 'aseguró', 'usas', 'pesar', 'peor', 'me', 'una', 'hacia', 'soy', 'que', 'dicen', 'como', 'mi', 'podriais', 'solas', 'les', 'van', 'sera', 'dio', 'ciertos', 'hubo', 'propios', 'sabe', 'usan', 'pueda', 'los', 'vaya', 'cuánta', 'hay', 'posible', 'ciertas', 'quedó', 'propias', 'última', 'primeros', 'doce', 'tenga', 'tuvo', 'pasado', 'días', 'han', 'tiene', 'existen', 'igual', 'embargo', 'otra', 'mucha', 'mías', 'consigo', 'suyas', 'dos', 'mientras', 'para', 'sobre', 'añadió', 'indicó', 'mío', 'cuanto', 'despacio', 'nuevo', 'podria', 'tendrá', 'desde', 'últimos', 'he', 'e', 'sus', 'decir', 'hicieron', 'seis', 'existe', 'entre', 'tu', 'buenos', 'cierto', 'aun', 'será', 'estos', 'dijo', 'queremos', 'propio', 'eran', 'quiere', 'aunque', 'ningunas', 'toda', 'aproximadamente', 'mias', 'dias', 'cuántas', 'además', 'otro', 'quién', 'verdadera', 'esas', 'vuestro', 'excepto', 'ahora', 'vosotros', 'cuando', 'supuesto', 'casi', 'cuánto', 'explicó', 'sigue', 'próximos', 'podrian', 'él', 'cierta', 'son', 'salvo', 'este', 'u', 'muy', 'creo', 'ellos', 'largo', 'contigo', 'mismo', 'haya', 'manera', 'aquéllas', 'nada', 'saber', 'uno', 'durante', 'la', 'ella', 'arriba', 'usar', 'tenido', 'más', 'hacerlo', 'tres', 'es', 'fuimos', 'demás', 'mio', 'su', 'enseguida', 'serán', 'paìs', 'no', 'varios', 'mia', 'otras', 'pueden', 'aquellas', 'vez', 'ver', 'debajo', 'yo', 'dicho', 'allí', 'conocer', 'estar', 'nuestros', 'eres', 'bastante', 'gran', 'conmigo', 'siempre', 'ti', 'podeis', 'quien', 'diferente', 'dieron', 'llevar', 'hablan', 'haber', 'podemos', 'lo', 'llegó', 'mediante', 'nuevos', 'si', 'manifestó', 'del', 'éstos', 'tanto', 'mí', 'podrias', 'algún', 'realizó', 'quizá', 'sea', 'solamente', 'según', 'usamos', 'aqui', 'dentro', 'ya', 'ninguno', 'ésa', 'sin', 'nosotros', 'conseguir', 'por', 'poco', 'habían', 'bueno', 'unos', 'sino', 'tras', 'conseguimos', 'ser', 'ellas', 'mas', 'tan', 'cinco', 'través', 'tuyo', 'os', 'aquellos', 'suyo', 'consiguen', 'dice', 'sabes', 'tarde', 'hoy', 'cuándo', 'pues', 'consideró', 'habia', 'temprano', 'ningún', 'ocho', 'realizar', 'ustedes', 'estaban', 'nosotras', 'al', 'nadie', 'las', 'míos', 'habla', 'buena', 'dar', 'da', 'medio', 'poca', 'vosotras', 'con', 'haces', 'estuvo', 'respecto']\n"
          ]
        }
      ],
      "source": [
        "stopwords = spacy.lang.es.stop_words.STOP_WORDS\n",
        "print('Número de stop words: ' + str(len(stopwords)))\n",
        "print('Stop words: ' + str(list(stopwords)))"
      ]
    },
    {
      "cell_type": "markdown",
      "metadata": {
        "id": "ZjDpe2hHekxa"
      },
      "source": [
        "* Los objetos de la clase ***Token*** tienen la propiedad ***is_stop*** que devuelve en Boolean indicando si el token es o no una stop word; es decir, si el ***Token*** (o palabra) esta dentro de la lista antes mostrada.\n",
        "\n",
        "\n",
        "* Veamos a continuación como obtener las stop words de una frase con spaCy:"
      ]
    },
    {
      "cell_type": "code",
      "execution_count": 7,
      "metadata": {
        "colab": {
          "base_uri": "https://localhost:8080/"
        },
        "id": "YAQWkNJIekxa",
        "outputId": "8c668a74-b75c-4c15-8037-ac0502c5c32e"
      },
      "outputs": [
        {
          "name": "stdout",
          "output_type": "stream",
          "text": [
            "La\n",
            "es\n",
            "una\n",
            "en\n",
            "la\n",
            "e\n",
            "a\n",
            "a\n",
            "que\n",
            "el\n"
          ]
        }
      ],
      "source": [
        "doc = nlp(\"La UPC es una institución educativa basada en la exigencia e innovación orientada a formar a líderes íntegros que transformen el Perú.\")\n",
        "for word in doc:\n",
        "    if word.is_stop:\n",
        "        print(word)"
      ]
    },
    {
      "cell_type": "markdown",
      "metadata": {
        "id": "CtmRl8fRekxb"
      },
      "source": [
        "## -Part of Speech (PoS)\n",
        "\n",
        "* En ***spaCy*** el PoS lo divide en 3 tipos de tags que son:\n",
        "    1. **pos**: etiqueta simple de alto nivel (verbo, nombre, adjetivo, etc).\n",
        "    2. **tag**: etiqueta con más nivel de detalle que el pos.\n",
        "    3. **dep**: dependencia sintáctica para ver la relación entre tokens.\n",
        "\n",
        "\n",
        "* Estos 3 tipos son propiedades de la clase ***Token***:"
      ]
    },
    {
      "cell_type": "code",
      "execution_count": 8,
      "metadata": {
        "colab": {
          "base_uri": "https://localhost:8080/",
          "height": 771
        },
        "id": "bc439wb1ekxb",
        "outputId": "3d1304b0-4e6b-411d-dd97-76ef40e35d00",
        "scrolled": false
      },
      "outputs": [
        {
          "data": {
            "text/html": [
              "<div>\n",
              "<style scoped>\n",
              "    .dataframe tbody tr th:only-of-type {\n",
              "        vertical-align: middle;\n",
              "    }\n",
              "\n",
              "    .dataframe tbody tr th {\n",
              "        vertical-align: top;\n",
              "    }\n",
              "\n",
              "    .dataframe thead th {\n",
              "        text-align: right;\n",
              "    }\n",
              "</style>\n",
              "<table border=\"1\" class=\"dataframe\">\n",
              "  <thead>\n",
              "    <tr style=\"text-align: right;\">\n",
              "      <th></th>\n",
              "      <th>Text</th>\n",
              "      <th>PoS</th>\n",
              "      <th>TAG</th>\n",
              "      <th>DEP</th>\n",
              "    </tr>\n",
              "  </thead>\n",
              "  <tbody>\n",
              "    <tr>\n",
              "      <th>0</th>\n",
              "      <td>La</td>\n",
              "      <td>DET</td>\n",
              "      <td>DET</td>\n",
              "      <td>det</td>\n",
              "    </tr>\n",
              "    <tr>\n",
              "      <th>1</th>\n",
              "      <td>UPC</td>\n",
              "      <td>PROPN</td>\n",
              "      <td>PROPN</td>\n",
              "      <td>nsubj</td>\n",
              "    </tr>\n",
              "    <tr>\n",
              "      <th>2</th>\n",
              "      <td>es</td>\n",
              "      <td>AUX</td>\n",
              "      <td>AUX</td>\n",
              "      <td>cop</td>\n",
              "    </tr>\n",
              "    <tr>\n",
              "      <th>3</th>\n",
              "      <td>una</td>\n",
              "      <td>DET</td>\n",
              "      <td>DET</td>\n",
              "      <td>det</td>\n",
              "    </tr>\n",
              "    <tr>\n",
              "      <th>4</th>\n",
              "      <td>institución</td>\n",
              "      <td>NOUN</td>\n",
              "      <td>NOUN</td>\n",
              "      <td>ROOT</td>\n",
              "    </tr>\n",
              "    <tr>\n",
              "      <th>5</th>\n",
              "      <td>educativa</td>\n",
              "      <td>ADJ</td>\n",
              "      <td>ADJ</td>\n",
              "      <td>amod</td>\n",
              "    </tr>\n",
              "    <tr>\n",
              "      <th>6</th>\n",
              "      <td>basada</td>\n",
              "      <td>ADJ</td>\n",
              "      <td>ADJ</td>\n",
              "      <td>amod</td>\n",
              "    </tr>\n",
              "    <tr>\n",
              "      <th>7</th>\n",
              "      <td>en</td>\n",
              "      <td>ADP</td>\n",
              "      <td>ADP</td>\n",
              "      <td>case</td>\n",
              "    </tr>\n",
              "    <tr>\n",
              "      <th>8</th>\n",
              "      <td>la</td>\n",
              "      <td>DET</td>\n",
              "      <td>DET</td>\n",
              "      <td>det</td>\n",
              "    </tr>\n",
              "    <tr>\n",
              "      <th>9</th>\n",
              "      <td>exigencia</td>\n",
              "      <td>NOUN</td>\n",
              "      <td>NOUN</td>\n",
              "      <td>obj</td>\n",
              "    </tr>\n",
              "    <tr>\n",
              "      <th>10</th>\n",
              "      <td>e</td>\n",
              "      <td>CCONJ</td>\n",
              "      <td>CCONJ</td>\n",
              "      <td>cc</td>\n",
              "    </tr>\n",
              "    <tr>\n",
              "      <th>11</th>\n",
              "      <td>innovación</td>\n",
              "      <td>NOUN</td>\n",
              "      <td>NOUN</td>\n",
              "      <td>conj</td>\n",
              "    </tr>\n",
              "    <tr>\n",
              "      <th>12</th>\n",
              "      <td>orientada</td>\n",
              "      <td>ADJ</td>\n",
              "      <td>ADJ</td>\n",
              "      <td>amod</td>\n",
              "    </tr>\n",
              "    <tr>\n",
              "      <th>13</th>\n",
              "      <td>a</td>\n",
              "      <td>ADP</td>\n",
              "      <td>ADP</td>\n",
              "      <td>mark</td>\n",
              "    </tr>\n",
              "    <tr>\n",
              "      <th>14</th>\n",
              "      <td>formar</td>\n",
              "      <td>VERB</td>\n",
              "      <td>VERB</td>\n",
              "      <td>xcomp</td>\n",
              "    </tr>\n",
              "    <tr>\n",
              "      <th>15</th>\n",
              "      <td>a</td>\n",
              "      <td>ADP</td>\n",
              "      <td>ADP</td>\n",
              "      <td>case</td>\n",
              "    </tr>\n",
              "    <tr>\n",
              "      <th>16</th>\n",
              "      <td>líderes</td>\n",
              "      <td>NOUN</td>\n",
              "      <td>NOUN</td>\n",
              "      <td>obj</td>\n",
              "    </tr>\n",
              "    <tr>\n",
              "      <th>17</th>\n",
              "      <td>íntegros</td>\n",
              "      <td>ADJ</td>\n",
              "      <td>ADJ</td>\n",
              "      <td>amod</td>\n",
              "    </tr>\n",
              "    <tr>\n",
              "      <th>18</th>\n",
              "      <td>que</td>\n",
              "      <td>PRON</td>\n",
              "      <td>PRON</td>\n",
              "      <td>nsubj</td>\n",
              "    </tr>\n",
              "    <tr>\n",
              "      <th>19</th>\n",
              "      <td>transformen</td>\n",
              "      <td>VERB</td>\n",
              "      <td>VERB</td>\n",
              "      <td>acl</td>\n",
              "    </tr>\n",
              "    <tr>\n",
              "      <th>20</th>\n",
              "      <td>el</td>\n",
              "      <td>DET</td>\n",
              "      <td>DET</td>\n",
              "      <td>det</td>\n",
              "    </tr>\n",
              "    <tr>\n",
              "      <th>21</th>\n",
              "      <td>Perú</td>\n",
              "      <td>PROPN</td>\n",
              "      <td>PROPN</td>\n",
              "      <td>obj</td>\n",
              "    </tr>\n",
              "    <tr>\n",
              "      <th>22</th>\n",
              "      <td>.</td>\n",
              "      <td>PUNCT</td>\n",
              "      <td>PUNCT</td>\n",
              "      <td>punct</td>\n",
              "    </tr>\n",
              "  </tbody>\n",
              "</table>\n",
              "</div>"
            ],
            "text/plain": [
              "           Text    PoS    TAG    DEP\n",
              "0            La    DET    DET    det\n",
              "1           UPC  PROPN  PROPN  nsubj\n",
              "2            es    AUX    AUX    cop\n",
              "3           una    DET    DET    det\n",
              "4   institución   NOUN   NOUN   ROOT\n",
              "5     educativa    ADJ    ADJ   amod\n",
              "6        basada    ADJ    ADJ   amod\n",
              "7            en    ADP    ADP   case\n",
              "8            la    DET    DET    det\n",
              "9     exigencia   NOUN   NOUN    obj\n",
              "10            e  CCONJ  CCONJ     cc\n",
              "11   innovación   NOUN   NOUN   conj\n",
              "12    orientada    ADJ    ADJ   amod\n",
              "13            a    ADP    ADP   mark\n",
              "14       formar   VERB   VERB  xcomp\n",
              "15            a    ADP    ADP   case\n",
              "16      líderes   NOUN   NOUN    obj\n",
              "17     íntegros    ADJ    ADJ   amod\n",
              "18          que   PRON   PRON  nsubj\n",
              "19  transformen   VERB   VERB    acl\n",
              "20           el    DET    DET    det\n",
              "21         Perú  PROPN  PROPN    obj\n",
              "22            .  PUNCT  PUNCT  punct"
            ]
          },
          "execution_count": 8,
          "metadata": {},
          "output_type": "execute_result"
        }
      ],
      "source": [
        "doc = nlp(\"La UPC es una institución educativa basada en la exigencia e innovación orientada a formar a líderes íntegros que transformen el Perú.\")\n",
        "pos = [[tk.text, tk.pos_, tk.tag_, tk.dep_] for tk in doc]\n",
        "\n",
        "import pandas as pd\n",
        "pd.DataFrame(pos, columns=[\"Text\", \"PoS\", \"TAG\", \"DEP\"])"
      ]
    },
    {
      "cell_type": "code",
      "execution_count": null,
      "metadata": {},
      "outputs": [],
      "source": []
    },
    {
      "cell_type": "markdown",
      "metadata": {
        "id": "fDlKgSYNekxb"
      },
      "source": [
        "## -Named Entity Recognition (NER)\n",
        "\n",
        "* Named Entity Recognition (Reconocimiento de Entidades Nombradas) es una tarea de extracción de información que busca localizar y clasificar en categorías predefinidas, como personas, organizaciones, lugares, expresiones de tiempo y cantidades, las entidades nombradas encontradas en un texto."
      ]
    },
    {
      "cell_type": "code",
      "execution_count": 9,
      "metadata": {
        "colab": {
          "base_uri": "https://localhost:8080/"
        },
        "id": "T0TvWjZgekxb",
        "outputId": "6f464ae8-9d06-4686-c370-9b42e090a0bf"
      },
      "outputs": [
        {
          "name": "stdout",
          "output_type": "stream",
          "text": [
            "Leo Messi - PER - Named person or family.\n",
            "FC Barcelona - ORG - Companies, agencies, institutions, etc.\n",
            "La Liga - MISC - Miscellaneous entities, e.g. events, nationalities, products or works of art\n"
          ]
        }
      ],
      "source": [
        "doc = nlp(\"Leo Messi exjugador del FC Barcelona marco mas de 400 goles en La Liga\")\n",
        "for entity in doc.ents:\n",
        "    print(entity.text + ' - ' + entity.label_ + ' - ' + str(spacy.explain(entity.label_)))"
      ]
    },
    {
      "cell_type": "markdown",
      "metadata": {
        "id": "TPfD1KQVekxc"
      },
      "source": [
        "\n",
        "<hr>\n",
        "\n",
        "\n",
        "# -Resumen\n",
        "\n",
        "* Una vez creado el documento a partir del texto plano, tenemos ese texto tokenizado.\n",
        "\n",
        "\n",
        "* Los objetos de la clase ***Token*** tienen una serie de propiedades que permiten obtener mucha información relativa a los tokens (o palabras).\n",
        "\n",
        "\n",
        "* Haciendo un resumen de lo visto anteriormente podemos obtener la siguiente información de las palabras de un texto:"
      ]
    },
    {
      "cell_type": "code",
      "execution_count": 10,
      "metadata": {
        "colab": {
          "base_uri": "https://localhost:8080/",
          "height": 771
        },
        "id": "iFATVvyJekxc",
        "outputId": "9afe905f-f1a6-4552-9bb7-9bf2f588bb3a",
        "scrolled": false
      },
      "outputs": [
        {
          "data": {
            "text/html": [
              "<div>\n",
              "<style scoped>\n",
              "    .dataframe tbody tr th:only-of-type {\n",
              "        vertical-align: middle;\n",
              "    }\n",
              "\n",
              "    .dataframe tbody tr th {\n",
              "        vertical-align: top;\n",
              "    }\n",
              "\n",
              "    .dataframe thead th {\n",
              "        text-align: right;\n",
              "    }\n",
              "</style>\n",
              "<table border=\"1\" class=\"dataframe\">\n",
              "  <thead>\n",
              "    <tr style=\"text-align: right;\">\n",
              "      <th></th>\n",
              "      <th>Text</th>\n",
              "      <th>Lema</th>\n",
              "      <th>PoS</th>\n",
              "      <th>TAG</th>\n",
              "      <th>DEP</th>\n",
              "      <th>Shape</th>\n",
              "      <th>Alpha</th>\n",
              "      <th>is Stop word</th>\n",
              "    </tr>\n",
              "  </thead>\n",
              "  <tbody>\n",
              "    <tr>\n",
              "      <th>0</th>\n",
              "      <td>La</td>\n",
              "      <td>el</td>\n",
              "      <td>DET</td>\n",
              "      <td>DET</td>\n",
              "      <td>det</td>\n",
              "      <td>Xx</td>\n",
              "      <td>True</td>\n",
              "      <td>True</td>\n",
              "    </tr>\n",
              "    <tr>\n",
              "      <th>1</th>\n",
              "      <td>UPC</td>\n",
              "      <td>UPC</td>\n",
              "      <td>PROPN</td>\n",
              "      <td>PROPN</td>\n",
              "      <td>nsubj</td>\n",
              "      <td>XXX</td>\n",
              "      <td>True</td>\n",
              "      <td>False</td>\n",
              "    </tr>\n",
              "    <tr>\n",
              "      <th>2</th>\n",
              "      <td>es</td>\n",
              "      <td>ser</td>\n",
              "      <td>AUX</td>\n",
              "      <td>AUX</td>\n",
              "      <td>cop</td>\n",
              "      <td>xx</td>\n",
              "      <td>True</td>\n",
              "      <td>True</td>\n",
              "    </tr>\n",
              "    <tr>\n",
              "      <th>3</th>\n",
              "      <td>una</td>\n",
              "      <td>uno</td>\n",
              "      <td>DET</td>\n",
              "      <td>DET</td>\n",
              "      <td>det</td>\n",
              "      <td>xxx</td>\n",
              "      <td>True</td>\n",
              "      <td>True</td>\n",
              "    </tr>\n",
              "    <tr>\n",
              "      <th>4</th>\n",
              "      <td>institución</td>\n",
              "      <td>institución</td>\n",
              "      <td>NOUN</td>\n",
              "      <td>NOUN</td>\n",
              "      <td>ROOT</td>\n",
              "      <td>xxxx</td>\n",
              "      <td>True</td>\n",
              "      <td>False</td>\n",
              "    </tr>\n",
              "    <tr>\n",
              "      <th>5</th>\n",
              "      <td>educativa</td>\n",
              "      <td>educativo</td>\n",
              "      <td>ADJ</td>\n",
              "      <td>ADJ</td>\n",
              "      <td>amod</td>\n",
              "      <td>xxxx</td>\n",
              "      <td>True</td>\n",
              "      <td>False</td>\n",
              "    </tr>\n",
              "    <tr>\n",
              "      <th>6</th>\n",
              "      <td>basada</td>\n",
              "      <td>basado</td>\n",
              "      <td>ADJ</td>\n",
              "      <td>ADJ</td>\n",
              "      <td>amod</td>\n",
              "      <td>xxxx</td>\n",
              "      <td>True</td>\n",
              "      <td>False</td>\n",
              "    </tr>\n",
              "    <tr>\n",
              "      <th>7</th>\n",
              "      <td>en</td>\n",
              "      <td>en</td>\n",
              "      <td>ADP</td>\n",
              "      <td>ADP</td>\n",
              "      <td>case</td>\n",
              "      <td>xx</td>\n",
              "      <td>True</td>\n",
              "      <td>True</td>\n",
              "    </tr>\n",
              "    <tr>\n",
              "      <th>8</th>\n",
              "      <td>la</td>\n",
              "      <td>el</td>\n",
              "      <td>DET</td>\n",
              "      <td>DET</td>\n",
              "      <td>det</td>\n",
              "      <td>xx</td>\n",
              "      <td>True</td>\n",
              "      <td>True</td>\n",
              "    </tr>\n",
              "    <tr>\n",
              "      <th>9</th>\n",
              "      <td>exigencia</td>\n",
              "      <td>exigencia</td>\n",
              "      <td>NOUN</td>\n",
              "      <td>NOUN</td>\n",
              "      <td>obj</td>\n",
              "      <td>xxxx</td>\n",
              "      <td>True</td>\n",
              "      <td>False</td>\n",
              "    </tr>\n",
              "    <tr>\n",
              "      <th>10</th>\n",
              "      <td>e</td>\n",
              "      <td>e</td>\n",
              "      <td>CCONJ</td>\n",
              "      <td>CCONJ</td>\n",
              "      <td>cc</td>\n",
              "      <td>x</td>\n",
              "      <td>True</td>\n",
              "      <td>True</td>\n",
              "    </tr>\n",
              "    <tr>\n",
              "      <th>11</th>\n",
              "      <td>innovación</td>\n",
              "      <td>innovación</td>\n",
              "      <td>NOUN</td>\n",
              "      <td>NOUN</td>\n",
              "      <td>conj</td>\n",
              "      <td>xxxx</td>\n",
              "      <td>True</td>\n",
              "      <td>False</td>\n",
              "    </tr>\n",
              "    <tr>\n",
              "      <th>12</th>\n",
              "      <td>orientada</td>\n",
              "      <td>orientado</td>\n",
              "      <td>ADJ</td>\n",
              "      <td>ADJ</td>\n",
              "      <td>amod</td>\n",
              "      <td>xxxx</td>\n",
              "      <td>True</td>\n",
              "      <td>False</td>\n",
              "    </tr>\n",
              "    <tr>\n",
              "      <th>13</th>\n",
              "      <td>a</td>\n",
              "      <td>a</td>\n",
              "      <td>ADP</td>\n",
              "      <td>ADP</td>\n",
              "      <td>mark</td>\n",
              "      <td>x</td>\n",
              "      <td>True</td>\n",
              "      <td>True</td>\n",
              "    </tr>\n",
              "    <tr>\n",
              "      <th>14</th>\n",
              "      <td>formar</td>\n",
              "      <td>formar</td>\n",
              "      <td>VERB</td>\n",
              "      <td>VERB</td>\n",
              "      <td>xcomp</td>\n",
              "      <td>xxxx</td>\n",
              "      <td>True</td>\n",
              "      <td>False</td>\n",
              "    </tr>\n",
              "    <tr>\n",
              "      <th>15</th>\n",
              "      <td>a</td>\n",
              "      <td>a</td>\n",
              "      <td>ADP</td>\n",
              "      <td>ADP</td>\n",
              "      <td>case</td>\n",
              "      <td>x</td>\n",
              "      <td>True</td>\n",
              "      <td>True</td>\n",
              "    </tr>\n",
              "    <tr>\n",
              "      <th>16</th>\n",
              "      <td>líderes</td>\n",
              "      <td>líder</td>\n",
              "      <td>NOUN</td>\n",
              "      <td>NOUN</td>\n",
              "      <td>obj</td>\n",
              "      <td>xxxx</td>\n",
              "      <td>True</td>\n",
              "      <td>False</td>\n",
              "    </tr>\n",
              "    <tr>\n",
              "      <th>17</th>\n",
              "      <td>íntegros</td>\n",
              "      <td>íntegro</td>\n",
              "      <td>ADJ</td>\n",
              "      <td>ADJ</td>\n",
              "      <td>amod</td>\n",
              "      <td>xxxx</td>\n",
              "      <td>True</td>\n",
              "      <td>False</td>\n",
              "    </tr>\n",
              "    <tr>\n",
              "      <th>18</th>\n",
              "      <td>que</td>\n",
              "      <td>que</td>\n",
              "      <td>PRON</td>\n",
              "      <td>PRON</td>\n",
              "      <td>nsubj</td>\n",
              "      <td>xxx</td>\n",
              "      <td>True</td>\n",
              "      <td>True</td>\n",
              "    </tr>\n",
              "    <tr>\n",
              "      <th>19</th>\n",
              "      <td>transformen</td>\n",
              "      <td>transformar</td>\n",
              "      <td>VERB</td>\n",
              "      <td>VERB</td>\n",
              "      <td>acl</td>\n",
              "      <td>xxxx</td>\n",
              "      <td>True</td>\n",
              "      <td>False</td>\n",
              "    </tr>\n",
              "    <tr>\n",
              "      <th>20</th>\n",
              "      <td>el</td>\n",
              "      <td>el</td>\n",
              "      <td>DET</td>\n",
              "      <td>DET</td>\n",
              "      <td>det</td>\n",
              "      <td>xx</td>\n",
              "      <td>True</td>\n",
              "      <td>True</td>\n",
              "    </tr>\n",
              "    <tr>\n",
              "      <th>21</th>\n",
              "      <td>Perú</td>\n",
              "      <td>Perú</td>\n",
              "      <td>PROPN</td>\n",
              "      <td>PROPN</td>\n",
              "      <td>obj</td>\n",
              "      <td>Xxxx</td>\n",
              "      <td>True</td>\n",
              "      <td>False</td>\n",
              "    </tr>\n",
              "    <tr>\n",
              "      <th>22</th>\n",
              "      <td>.</td>\n",
              "      <td>.</td>\n",
              "      <td>PUNCT</td>\n",
              "      <td>PUNCT</td>\n",
              "      <td>punct</td>\n",
              "      <td>.</td>\n",
              "      <td>False</td>\n",
              "      <td>False</td>\n",
              "    </tr>\n",
              "  </tbody>\n",
              "</table>\n",
              "</div>"
            ],
            "text/plain": [
              "           Text         Lema    PoS    TAG    DEP Shape  Alpha  is Stop word\n",
              "0            La           el    DET    DET    det    Xx   True          True\n",
              "1           UPC          UPC  PROPN  PROPN  nsubj   XXX   True         False\n",
              "2            es          ser    AUX    AUX    cop    xx   True          True\n",
              "3           una          uno    DET    DET    det   xxx   True          True\n",
              "4   institución  institución   NOUN   NOUN   ROOT  xxxx   True         False\n",
              "5     educativa    educativo    ADJ    ADJ   amod  xxxx   True         False\n",
              "6        basada       basado    ADJ    ADJ   amod  xxxx   True         False\n",
              "7            en           en    ADP    ADP   case    xx   True          True\n",
              "8            la           el    DET    DET    det    xx   True          True\n",
              "9     exigencia    exigencia   NOUN   NOUN    obj  xxxx   True         False\n",
              "10            e            e  CCONJ  CCONJ     cc     x   True          True\n",
              "11   innovación   innovación   NOUN   NOUN   conj  xxxx   True         False\n",
              "12    orientada    orientado    ADJ    ADJ   amod  xxxx   True         False\n",
              "13            a            a    ADP    ADP   mark     x   True          True\n",
              "14       formar       formar   VERB   VERB  xcomp  xxxx   True         False\n",
              "15            a            a    ADP    ADP   case     x   True          True\n",
              "16      líderes        líder   NOUN   NOUN    obj  xxxx   True         False\n",
              "17     íntegros      íntegro    ADJ    ADJ   amod  xxxx   True         False\n",
              "18          que          que   PRON   PRON  nsubj   xxx   True          True\n",
              "19  transformen  transformar   VERB   VERB    acl  xxxx   True         False\n",
              "20           el           el    DET    DET    det    xx   True          True\n",
              "21         Perú         Perú  PROPN  PROPN    obj  Xxxx   True         False\n",
              "22            .            .  PUNCT  PUNCT  punct     .  False         False"
            ]
          },
          "execution_count": 10,
          "metadata": {},
          "output_type": "execute_result"
        }
      ],
      "source": [
        "import spacy\n",
        "import pandas as pd\n",
        "\n",
        "nlp = spacy.load('es_core_news_sm')\n",
        "doc = nlp(\"La UPC es una institución educativa basada en la exigencia e innovación orientada a formar a líderes íntegros que transformen el Perú.\")\n",
        "\n",
        "result = [[tk.text, tk.lemma_, tk.pos_, tk.tag_, tk.dep_, tk.shape_, tk.is_alpha, tk.is_stop] for tk in doc]\n",
        "pd.DataFrame(result, columns=[\"Text\", \"Lema\", \"PoS\", \"TAG\", \"DEP\", \"Shape\", \"Alpha\", \"is Stop word\"])"
      ]
    },
    {
      "cell_type": "markdown",
      "metadata": {
        "id": "_gThaRrDekxc"
      },
      "source": [
        "#### Para más información visitar el siguiente enlace: https://spacy.io/usage/spacy-101#annotations"
      ]
    }
  ],
  "metadata": {
    "colab": {
      "provenance": []
    },
    "kernelspec": {
      "display_name": "Python 3 (ipykernel)",
      "language": "python",
      "name": "python3"
    },
    "language_info": {
      "codemirror_mode": {
        "name": "ipython",
        "version": 3
      },
      "file_extension": ".py",
      "mimetype": "text/x-python",
      "name": "python",
      "nbconvert_exporter": "python",
      "pygments_lexer": "ipython3",
      "version": "3.11.8"
    }
  },
  "nbformat": 4,
  "nbformat_minor": 0
}
