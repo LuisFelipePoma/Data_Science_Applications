{
  "cells": [
    {
      "cell_type": "markdown",
      "metadata": {
        "id": "DRi6kHk8ECaT"
      },
      "source": [
        "# Configuración inicial\n",
        "\n",
        "* En este notebook vamos a descargar el dataset `book` que contiene muchos libros en ingles en formato de texto tokenizado, de los cuales vamos a hacer procesamiento."
      ]
    },
    {
      "cell_type": "code",
      "execution_count": null,
      "metadata": {
        "colab": {
          "base_uri": "https://localhost:8080/"
        },
        "id": "DLeLwV_ND0Pq",
        "outputId": "3f9f145b-55a8-4da1-d8be-8775770283bf"
      },
      "outputs": [],
      "source": [
        "import nltk\n",
        "nltk.download('book')\n",
        "from nltk.book import *\n",
        "import matplotlib.pyplot as plt\n",
        "import numpy as np"
      ]
    },
    {
      "cell_type": "markdown",
      "metadata": {
        "id": "MEFQ7N_OF3W_"
      },
      "source": [
        "# Analizando un texto"
      ]
    },
    {
      "cell_type": "code",
      "execution_count": 5,
      "metadata": {
        "colab": {
          "base_uri": "https://localhost:8080/"
        },
        "id": "Q3y6FxQuF7Ts",
        "outputId": "fd035297-1ec5-41e1-828e-40f71964ebff"
      },
      "outputs": [
        {
          "data": {
            "text/plain": [
              "<Text: Moby Dick by Herman Melville 1851>"
            ]
          },
          "execution_count": 5,
          "metadata": {},
          "output_type": "execute_result"
        }
      ],
      "source": [
        "# escogemos text1 que es el famoso libro Moby Dick\n",
        "text1"
      ]
    },
    {
      "cell_type": "code",
      "execution_count": 6,
      "metadata": {
        "colab": {
          "base_uri": "https://localhost:8080/"
        },
        "id": "eFlDai-3Im-R",
        "outputId": "9a2cc41f-060f-4ced-d773-4ccfbdc2b7fa"
      },
      "outputs": [
        {
          "data": {
            "text/plain": [
              "['[',\n",
              " 'Moby',\n",
              " 'Dick',\n",
              " 'by',\n",
              " 'Herman',\n",
              " 'Melville',\n",
              " '1851',\n",
              " ']',\n",
              " 'ETYMOLOGY',\n",
              " '.']"
            ]
          },
          "execution_count": 6,
          "metadata": {},
          "output_type": "execute_result"
        }
      ],
      "source": [
        "# Vemos que el texto ya viene tokenizado incluyendo caracteres especiales ....\n",
        "text1.tokens[:10]"
      ]
    },
    {
      "cell_type": "code",
      "execution_count": 7,
      "metadata": {
        "colab": {
          "base_uri": "https://localhost:8080/"
        },
        "id": "xO4R4EgzIAuK",
        "outputId": "45f595a7-12d6-42f4-e57d-ea8780018ddf"
      },
      "outputs": [
        {
          "data": {
            "text/plain": [
              "260819"
            ]
          },
          "execution_count": 7,
          "metadata": {},
          "output_type": "execute_result"
        }
      ],
      "source": [
        "# ¿Cuantos tokens tiene el libro?\n",
        "len(text1)"
      ]
    },
    {
      "cell_type": "markdown",
      "metadata": {
        "id": "Tm95nIKgJZ0F"
      },
      "source": [
        "## Medida de riqueza lexica en un texto:\n",
        "$$ R_l = \\frac{\\text{total de palabras únicas}}{\\text{total de palabras}} = \\frac{\\text{longitud del vocabulario}}{\\text{longitud del texto}}$$"
      ]
    },
    {
      "cell_type": "code",
      "execution_count": 10,
      "metadata": {
        "colab": {
          "base_uri": "https://localhost:8080/"
        },
        "id": "X3I0r11xIvpz",
        "outputId": "ebcf7fb1-363a-4778-d2ce-ab4d5823bde4"
      },
      "outputs": [
        {
          "data": {
            "text/plain": [
              "['Crew',\n",
              " 'Crish',\n",
              " 'Crockett',\n",
              " 'Cross',\n",
              " 'Crossed',\n",
              " 'Crossing',\n",
              " 'Crotch',\n",
              " 'Crowding',\n",
              " 'Crown',\n",
              " 'Crozetts',\n",
              " 'Cruelty',\n",
              " 'Cruising',\n",
              " 'Cruppered',\n",
              " 'Crusaders',\n",
              " 'Crushed',\n",
              " 'Crying',\n",
              " 'Cuba',\n",
              " 'Curious',\n",
              " 'Curse',\n",
              " 'Cursed',\n",
              " 'Curses',\n",
              " 'Cussed',\n",
              " 'Customs',\n",
              " 'Cut',\n",
              " 'Cutter']"
            ]
          },
          "execution_count": 10,
          "metadata": {},
          "output_type": "execute_result"
        }
      ],
      "source": [
        "# Primero realizamos la construcción de un vocabulario (identificamos las palabras unicas que hay en el libro)\n",
        "# https://docs.python.org/2/library/sets.html\n",
        "vocabulario = sorted(set(text1))\n",
        "vocabulario[1000:1025]"
      ]
    },
    {
      "cell_type": "code",
      "execution_count": 9,
      "metadata": {
        "colab": {
          "base_uri": "https://localhost:8080/"
        },
        "id": "zIlPOlLdI3wb",
        "outputId": "fdb392bd-94c0-4118-d0d7-2ee39309d5fb"
      },
      "outputs": [
        {
          "name": "stdout",
          "output_type": "stream",
          "text": [
            "0.07406285585022564\n"
          ]
        }
      ],
      "source": [
        "# luego definimos la medida de riqueza léxica:\n",
        "rl = len(set(text1))/len(text1)\n",
        "print(rl)"
      ]
    },
    {
      "cell_type": "code",
      "execution_count": 11,
      "metadata": {
        "colab": {
          "base_uri": "https://localhost:8080/"
        },
        "id": "4KBxRjHQJ2d7",
        "outputId": "3f42fd4c-8e4b-4ef7-9021-7d21c0802aa0"
      },
      "outputs": [
        {
          "data": {
            "text/plain": [
              "0.07406285585022564"
            ]
          },
          "execution_count": 11,
          "metadata": {},
          "output_type": "execute_result"
        }
      ],
      "source": [
        "# podemos definir funciones en python para estas medidas léxicas:\n",
        "def riqueza_lexica(texto):\n",
        "  return len(set(texto))/len(texto)\n",
        "\n",
        "def porcentaje_palabra(palabra, texto):\n",
        "  return 100*texto.count(palabra)/len(texto)\n",
        "\n",
        "riqueza_lexica(text1)"
      ]
    },
    {
      "cell_type": "code",
      "execution_count": 12,
      "metadata": {
        "colab": {
          "base_uri": "https://localhost:8080/"
        },
        "id": "VHzRScBFNHbY",
        "outputId": "5ec2e15b-3dcf-40c7-a289-5f6401574654"
      },
      "outputs": [
        {
          "data": {
            "text/plain": [
              "0.018786974875296663"
            ]
          },
          "execution_count": 12,
          "metadata": {},
          "output_type": "execute_result"
        }
      ],
      "source": [
        "# podemos calcular el porcentaje de texto que ocupa una palabra en una cadena larga de texto.\n",
        "porcentaje_palabra('monster', text1)"
      ]
    },
    {
      "cell_type": "code",
      "execution_count": 13,
      "metadata": {
        "colab": {
          "base_uri": "https://localhost:8080/"
        },
        "id": "lLvrh39wPRBz",
        "outputId": "1e6eb1d3-4454-443a-a908-f2fd079bcabb"
      },
      "outputs": [
        {
          "data": {
            "text/plain": [
              "49"
            ]
          },
          "execution_count": 13,
          "metadata": {},
          "output_type": "execute_result"
        }
      ],
      "source": [
        "# y calcular en conteo el numero de veces que aparece:\n",
        "text1.count('monster')"
      ]
    },
    {
      "cell_type": "markdown",
      "metadata": {
        "id": "Y-CMwKBzMGmK"
      },
      "source": [
        "# Estadistica del Lenguaje\n",
        "\n",
        "Los cálculos estadísticos más simples que se pueden efectuar sobre un texto o un corpus son los relacionados con frecuencia de aparición de palabras.\n",
        "\n",
        "* Podemos construir un diccionario en Python donde las llaves sean las palabras y los valores sean las frecuencias de ocurrencias de esas palabras.\n",
        "\n",
        "* ejemplo `dic = {'monster': 49 ,  'boat': 54,  ...}`\n"
      ]
    },
    {
      "cell_type": "code",
      "execution_count": null,
      "metadata": {
        "colab": {
          "base_uri": "https://localhost:8080/"
        },
        "id": "WEGgKnFeKd5v",
        "outputId": "348456a8-b2f3-49c8-92ac-b6200345a708"
      },
      "outputs": [],
      "source": [
        "# METODO NO recomendable para conjuntos muy grandes\n",
        "dic = {}\n",
        "for palabra in set(text1):\n",
        "  #dic[palabra] = porcentaje_palabra(palabra, text1)\n",
        "  dic[palabra] = text1.count(palabra)\n",
        "dic"
      ]
    },
    {
      "cell_type": "markdown",
      "metadata": {
        "id": "5eWzHWyAy-5B"
      },
      "source": [
        "## Método FreqDist de NLTK"
      ]
    },
    {
      "cell_type": "code",
      "execution_count": 15,
      "metadata": {
        "id": "Gu8q9plGNnA_"
      },
      "outputs": [],
      "source": [
        "# NLTK tiene un metodo muy eficiente\n",
        "fdist = FreqDist(text1)"
      ]
    },
    {
      "cell_type": "code",
      "execution_count": 16,
      "metadata": {
        "colab": {
          "base_uri": "https://localhost:8080/"
        },
        "id": "QPGzPWe2OmJf",
        "outputId": "fc9f0d52-a77b-4bae-f60e-395d197003ab"
      },
      "outputs": [
        {
          "data": {
            "text/plain": [
              "[(',', 18713),\n",
              " ('the', 13721),\n",
              " ('.', 6862),\n",
              " ('of', 6536),\n",
              " ('and', 6024),\n",
              " ('a', 4569),\n",
              " ('to', 4542),\n",
              " (';', 4072),\n",
              " ('in', 3916),\n",
              " ('that', 2982),\n",
              " (\"'\", 2684),\n",
              " ('-', 2552),\n",
              " ('his', 2459),\n",
              " ('it', 2209),\n",
              " ('I', 2124),\n",
              " ('s', 1739),\n",
              " ('is', 1695),\n",
              " ('he', 1661),\n",
              " ('with', 1659),\n",
              " ('was', 1632)]"
            ]
          },
          "execution_count": 16,
          "metadata": {},
          "output_type": "execute_result"
        }
      ],
      "source": [
        "fdist.most_common(20)"
      ]
    },
    {
      "cell_type": "code",
      "execution_count": 17,
      "metadata": {
        "colab": {
          "base_uri": "https://localhost:8080/",
          "height": 482
        },
        "id": "fPCV9UqyOrpt",
        "outputId": "b22d18a7-69e8-4c39-856e-78edeca668a1"
      },
      "outputs": [
        {
          "data": {
            "image/png": "[encoded data removed]",
            "text/plain": [
              "<Figure size 640x480 with 1 Axes>"
            ]
          },
          "metadata": {},
          "output_type": "display_data"
        },
        {
          "data": {
            "text/plain": [
              "<Axes: xlabel='Samples', ylabel='Counts'>"
            ]
          },
          "execution_count": 17,
          "metadata": {},
          "output_type": "execute_result"
        }
      ],
      "source": [
        "fdist.plot(20)"
      ]
    },
    {
      "cell_type": "code",
      "execution_count": 18,
      "metadata": {
        "colab": {
          "base_uri": "https://localhost:8080/"
        },
        "id": "V95L5wo4OzAJ",
        "outputId": "153f6037-561c-4644-d575-78e7927560f4"
      },
      "outputs": [
        {
          "data": {
            "text/plain": [
              "49"
            ]
          },
          "execution_count": 18,
          "metadata": {},
          "output_type": "execute_result"
        }
      ],
      "source": [
        "fdist['monster']"
      ]
    },
    {
      "cell_type": "markdown",
      "metadata": {
        "id": "QIv6TflAzEyi"
      },
      "source": [
        "## Distribuciones sobre contenido con filtro-fino\n",
        "\n",
        "* Como vimos en la sección anterior, los tokens más frecuentes en un texto no son necesariamente las palabras que mas informacion nos arrojan sobre el contenido del mismo.\n",
        "* Por ello, es mejor filtrar y construir distribuciones de frecuencia que no consideren signos de puntuación o caracteres especiales"
      ]
    },
    {
      "cell_type": "code",
      "execution_count": 19,
      "metadata": {
        "colab": {
          "base_uri": "https://localhost:8080/"
        },
        "id": "j3mUefGxPN9p",
        "outputId": "55fef525-c529-490c-d59c-0c3fbc1f40f7"
      },
      "outputs": [
        {
          "data": {
            "text/plain": [
              "['ACCOUNT',\n",
              " 'ADDITIONAL',\n",
              " 'ADVANCING',\n",
              " 'ADVENTURES',\n",
              " 'AFFGHANISTAN',\n",
              " 'AFRICA',\n",
              " 'AGAINST',\n",
              " 'ALFRED',\n",
              " 'ALGERINE',\n",
              " 'AMERICA']"
            ]
          },
          "execution_count": 19,
          "metadata": {},
          "output_type": "execute_result"
        }
      ],
      "source": [
        "# Tal vez sea más interesante estudiar palabras que tengan una longitud minima especifica\n",
        "long_words = [palabra for palabra in text1 if len(palabra)>5]\n",
        "vocabulario_filtrado = sorted(set(long_words))\n",
        "vocabulario_filtrado[:10]"
      ]
    },
    {
      "cell_type": "markdown",
      "metadata": {
        "id": "PKRWasT60Dmm"
      },
      "source": [
        "Podemos ahora construir una lista de tuplas, basados en los conteos ya pre-calculados de la función `FreqDist`, así:\n",
        "\n",
        "`fdist_filtrado = [('account', 2), ('additional', 32), ('advancing', 5), ...]`\n",
        "\n",
        "Luego podemos convertir el objeto creado a formato de `np.array`de **Numpy** para poder hacer un sort por palabras mas frecuentes.\n",
        "\n",
        "`fdist_filtrado = np.array(fdist_filtrado, *args)`\n",
        "\n",
        "`np.sort(fdist_filtrado, *args) = [('account', 2), ('advancing', 5), ('additional', 32), ...]`"
      ]
    },
    {
      "cell_type": "code",
      "execution_count": 20,
      "metadata": {
        "colab": {
          "base_uri": "https://localhost:8080/"
        },
        "id": "wW68CjK2PuDd",
        "outputId": "0c0325f4-6afb-41ba-f7ee-bc00c01ae112"
      },
      "outputs": [
        {
          "data": {
            "text/plain": [
              "array([(b'between', 117), (b'something', 119), (b'against', 132),\n",
              "       (b'things', 132), (b'thought', 149), (b'CHAPTER', 150),\n",
              "       (b'without', 154), (b'Pequod', 172), (b'should', 181),\n",
              "       (b'almost', 186), (b'Starbuck', 196), (b'himself', 203),\n",
              "       (b'Captain', 215), (b'through', 227), (b'whales', 237),\n",
              "       (b'little', 247), (b'Queequeg', 252), (b'seemed', 283),\n",
              "       (b'before', 293), (b'though', 335)],\n",
              "      dtype=[('word', 'S10'), ('frequency', '<i4')])"
            ]
          },
          "execution_count": 20,
          "metadata": {},
          "output_type": "execute_result"
        }
      ],
      "source": [
        "palabras_interesantes = [(palabra, fdist[palabra]) for palabra in set(text1) if len(palabra)>5 and fdist[palabra]>10]\n",
        "dtypes = [('word', 'S10'), ('frequency', int)]\n",
        "palabras_interesantes = np.array(palabras_interesantes, dtype=dtypes)\n",
        "palabras_ordenadas = np.sort(palabras_interesantes, order = 'frequency')\n",
        "palabras_ordenadas[-20:] # top de palabras mas frecuentes"
      ]
    },
    {
      "cell_type": "code",
      "execution_count": 22,
      "metadata": {
        "colab": {
          "base_uri": "https://localhost:8080/",
          "height": 586
        },
        "id": "WXoOpKx5Qzhh",
        "outputId": "9a472b62-1ccd-4f45-9d24-144f87d40a07"
      },
      "outputs": [
        {
          "data": {
            "image/png": "[encoded data removed]",
            "text/plain": [
              "<Figure size 1000x500 with 1 Axes>"
            ]
          },
          "metadata": {},
          "output_type": "display_data"
        }
      ],
      "source": [
        "# Construccion de un grafico de barras customizado con Matplotlib\n",
        "# https://matplotlib.org/3.1.1/gallery/ticks_and_spines/custom_ticker1.html#sphx-glr-gallery-ticks-and-spines-custom-ticker1-py\n",
        "top_words = 20\n",
        "x = np.arange(len(palabras_ordenadas[-top_words:]))\n",
        "y = [freq[1] for freq in palabras_ordenadas[-top_words:]]\n",
        "plt.figure(figsize=(10,5))\n",
        "plt.plot(x, y)\n",
        "plt.xticks(x, [str(freq[0]) for freq in palabras_ordenadas[-top_words:]], rotation = 'vertical')\n",
        "plt.tick_params(labelsize = 'x-large')\n",
        "plt.grid(True)\n",
        "plt.show()"
      ]
    }
  ],
  "metadata": {
    "colab": {
      "provenance": []
    },
    "kernelspec": {
      "display_name": "Python 3",
      "name": "python3"
    },
    "language_info": {
      "codemirror_mode": {
        "name": "ipython",
        "version": 3
      },
      "file_extension": ".py",
      "mimetype": "text/x-python",
      "name": "python",
      "nbconvert_exporter": "python",
      "pygments_lexer": "ipython3",
      "version": "3.11.8"
    }
  },
  "nbformat": 4,
  "nbformat_minor": 0
}
