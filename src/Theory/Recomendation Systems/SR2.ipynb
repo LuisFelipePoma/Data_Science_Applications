{
  "cells": [
    {
      "cell_type": "markdown",
      "metadata": {
        "id": "vaVoE79Mrd9J"
      },
      "source": [
        "<h1 style=\"font-size:2.5em;text-align:center;\">Sistemas de Recomendación - Guia 2</h1>"
      ]
    },
    {
      "cell_type": "markdown",
      "metadata": {
        "id": "JNUNwSE-rd9N"
      },
      "source": [
        "# Implementación de un FWLS\n",
        "\n",
        "En este notebook veremos los pasos para crear (y evaluar) un modelo de Ensemble de **Feature Weighted Linear Stacking** basado en dos sistemas de recomendación: un filtrado colaborativo y un filtrado por contenido."
      ]
    },
    {
      "cell_type": "markdown",
      "metadata": {
        "id": "DwRn1NVzrd9N"
      },
      "source": [
        "# Modelo de Filtrado Colaborativo\n",
        "\n",
        "Para el primer modelo vamos a utilizar [Surpr!se](http://surpriselib.com/) como lo venimos haciendo. Además, haremos uso de su sistema de `Dataset`s que nos serviará para la división del conjunto de datos en entrenamiento y evaluación."
      ]
    },
    {
      "cell_type": "code",
      "source": [
        "!pip install scikit-surprise"
      ],
      "metadata": {
        "id": "XCMJ-LkUriE6",
        "colab": {
          "base_uri": "https://localhost:8080/"
        },
        "outputId": "2743baa5-09bf-4381-d298-d04c4e253f3d"
      },
      "execution_count": 1,
      "outputs": [
        {
          "output_type": "stream",
          "name": "stdout",
          "text": [
            "Looking in indexes: https://pypi.org/simple, https://us-python.pkg.dev/colab-wheels/public/simple/\n",
            "Collecting scikit-surprise\n",
            "  Downloading scikit-surprise-1.1.1.tar.gz (11.8 MB)\n",
            "\u001b[K     |████████████████████████████████| 11.8 MB 5.4 MB/s \n",
            "\u001b[?25hRequirement already satisfied: joblib>=0.11 in /usr/local/lib/python3.7/dist-packages (from scikit-surprise) (1.1.0)\n",
            "Requirement already satisfied: numpy>=1.11.2 in /usr/local/lib/python3.7/dist-packages (from scikit-surprise) (1.21.6)\n",
            "Requirement already satisfied: scipy>=1.0.0 in /usr/local/lib/python3.7/dist-packages (from scikit-surprise) (1.4.1)\n",
            "Requirement already satisfied: six>=1.10.0 in /usr/local/lib/python3.7/dist-packages (from scikit-surprise) (1.15.0)\n",
            "Building wheels for collected packages: scikit-surprise\n",
            "  Building wheel for scikit-surprise (setup.py) ... \u001b[?25l\u001b[?25hdone\n",
            "  Created wheel for scikit-surprise: filename=scikit_surprise-1.1.1-cp37-cp37m-linux_x86_64.whl size=1633719 sha256=a477afa82894be7e3c42e87e6cf788252186c818789f6c1ea75cd435fa1b6fa7\n",
            "  Stored in directory: /root/.cache/pip/wheels/76/44/74/b498c42be47b2406bd27994e16c5188e337c657025ab400c1c\n",
            "Successfully built scikit-surprise\n",
            "Installing collected packages: scikit-surprise\n",
            "Successfully installed scikit-surprise-1.1.1\n"
          ]
        }
      ]
    },
    {
      "cell_type": "code",
      "source": [
        "!curl -LO http://files.grouplens.org/datasets/movielens/ml-latest-small.zip\n",
        "!unzip ml-latest-small.zip -d data/\n",
        "!rm -f ml-latest-small.zip"
      ],
      "metadata": {
        "colab": {
          "base_uri": "https://localhost:8080/"
        },
        "id": "9tzz9blRsQWv",
        "outputId": "fe505caf-447c-4285-8a5d-229768efbb58"
      },
      "execution_count": 3,
      "outputs": [
        {
          "output_type": "stream",
          "name": "stdout",
          "text": [
            "  % Total    % Received % Xferd  Average Speed   Time    Time     Time  Current\n",
            "                                 Dload  Upload   Total   Spent    Left  Speed\n",
            "100  955k  100  955k    0     0  2352k      0 --:--:-- --:--:-- --:--:-- 2347k\n",
            "Archive:  ml-latest-small.zip\n",
            "   creating: data/ml-latest-small/\n",
            "  inflating: data/ml-latest-small/links.csv  \n",
            "  inflating: data/ml-latest-small/tags.csv  \n",
            "  inflating: data/ml-latest-small/ratings.csv  \n",
            "  inflating: data/ml-latest-small/README.txt  \n",
            "  inflating: data/ml-latest-small/movies.csv  \n"
          ]
        }
      ]
    },
    {
      "cell_type": "code",
      "execution_count": 5,
      "metadata": {
        "id": "gP_8nq0hrd9O"
      },
      "outputs": [],
      "source": [
        "import pandas as pd\n",
        "\n",
        "from surprise import Dataset, Reader, KNNWithMeans\n",
        "from surprise.model_selection import train_test_split"
      ]
    },
    {
      "cell_type": "code",
      "execution_count": 6,
      "metadata": {
        "id": "4iGijMByrd9P"
      },
      "outputs": [],
      "source": [
        "ratings = pd.read_csv(\"/content/data/ml-latest-small/ratings.csv\")\n",
        "reader = Reader(rating_scale=(ratings.rating.min(), ratings.rating.max()))\n",
        "ratings = Dataset.load_from_df(ratings[[\"userId\", \"movieId\", \"rating\"]], reader)\n",
        "ratings_train, ratings_test = train_test_split(ratings, test_size=0.2)"
      ]
    },
    {
      "cell_type": "markdown",
      "metadata": {
        "id": "E49a7oB7rd9P"
      },
      "source": [
        "Notar que en este casos el filtrado es basado en items (películas), en lugar de usuarios."
      ]
    },
    {
      "cell_type": "code",
      "execution_count": 7,
      "metadata": {
        "id": "St2k_x56rd9Q",
        "colab": {
          "base_uri": "https://localhost:8080/"
        },
        "outputId": "c92a21c8-1305-40c6-a339-20bf9885ea98"
      },
      "outputs": [
        {
          "output_type": "stream",
          "name": "stdout",
          "text": [
            "Computing the pearson similarity matrix...\n",
            "Done computing similarity matrix.\n"
          ]
        }
      ],
      "source": [
        "cf_model = KNNWithMeans(k=5, sim_options={\"user_based\": False, \"name\": \"pearson\"}).fit(ratings_train)"
      ]
    },
    {
      "cell_type": "markdown",
      "metadata": {
        "id": "BkGwUEBSrd9Q"
      },
      "source": [
        "# Modelo predictivo basado en contenido\n",
        "\n",
        "Primero debemos crear nuestro modelo predictivo basado en información de contenido. En este caso, basado en los géneros de las películas. La idea es, a partir de los géneros de las películas, buscar aquellas más similares. Luego, en base a los ratings hechos por un usuario, se pueden generar ratings usando algún algoritmo clásico de KNearestNeigbors y en base a ello devolver lo predicho."
      ]
    },
    {
      "cell_type": "code",
      "execution_count": 8,
      "metadata": {
        "id": "9ih3-jverd9R"
      },
      "outputs": [],
      "source": [
        "import pandas as pd\n",
        "import numpy as np\n",
        "from sklearn.metrics.pairwise import cosine_similarity\n",
        "\n",
        "class GenresBasedFilter(object):\n",
        "    def __init__(self, movies, k=5):\n",
        "        self.movie_to_idx = {row[\"movieId\"]: idx for idx, row in movies.iterrows()}\n",
        "        self.idx_to_movie = {idx: movie for movie, idx in self.movie_to_idx.items()}\n",
        "        self.k = k\n",
        "\n",
        "        genres = set(g for G in movies['genres'] for g in G)\n",
        "        for g in genres:\n",
        "            movies[g] = movies.genres.transform(lambda x: int(g in x))\n",
        "\n",
        "        self.movie_genres = movies.drop(columns=['movieId', 'title', 'genres'])\n",
        "\n",
        "    def fit(self, ratings):\n",
        "        self.movies_cosine_sim_ = cosine_similarity(self.movie_genres, self.movie_genres)\n",
        "\n",
        "        self.user_ratings_ = {}\n",
        "        for (user_id, movie_id, rating) in ratings.build_testset():\n",
        "            if user_id not in self.user_ratings_:\n",
        "                self.user_ratings_[user_id] = {}\n",
        "            self.user_ratings_[user_id][movie_id] = rating\n",
        "\n",
        "        return self\n",
        "\n",
        "    def predict(self, user, movie):\n",
        "        if not user in self.user_ratings_ or not movie in self.movie_to_idx:\n",
        "            global_mean = np.mean([\n",
        "                rating for movies in self.user_ratings_.values() for rating in movies.values()\n",
        "            ])\n",
        "            return global_mean\n",
        "\n",
        "        movie_idx = self.movie_to_idx[movie]\n",
        "        sim_scores = list(enumerate(self.movies_cosine_sim_[movie_idx]))\n",
        "        sim_scores = sorted(sim_scores, key=lambda x: x[1], reverse=True)\n",
        "        sim_scores = sim_scores[1:]\n",
        "\n",
        "        sims = []\n",
        "\n",
        "        for movie, score in sim_scores:\n",
        "            if self.idx_to_movie[movie] in self.user_ratings_[user]:\n",
        "                sims.append((self.user_ratings_[user][self.idx_to_movie[movie]], score))\n",
        "                if len(sims) >= self.k:\n",
        "                    break\n",
        "\n",
        "        user_mean = np.mean(list(self.user_ratings_[user].values()))\n",
        "\n",
        "        pred = 0\n",
        "        sim_sum = 0\n",
        "\n",
        "        for rating, score in sims:\n",
        "            pred += score * (rating - user_mean)\n",
        "            sim_sum += score\n",
        "\n",
        "        if sim_sum == 0:\n",
        "            return user_mean\n",
        "\n",
        "        return user_mean + pred / sim_sum"
      ]
    },
    {
      "cell_type": "markdown",
      "metadata": {
        "id": "BlvWSVpurd9S"
      },
      "source": [
        "Para este modelo cargamos el conjunto de datos que tiene información de los géneros de las películas. Necesitamos esta información para calcular la matriz de similitud coseno. Por otra parte, utilizamos el conjunto de entrenamiento de Surpr!se para entrenar el modelo."
      ]
    },
    {
      "cell_type": "code",
      "execution_count": 9,
      "metadata": {
        "id": "PyYnjXndrd9S"
      },
      "outputs": [],
      "source": [
        "movies = pd.read_csv(\"/content/data/ml-latest-small/movies.csv\")\n",
        "movies['genres'] = movies['genres'].apply(lambda x: x.split(\"|\"))"
      ]
    },
    {
      "cell_type": "code",
      "execution_count": 10,
      "metadata": {
        "id": "lQZSWJW2rd9S"
      },
      "outputs": [],
      "source": [
        "cb_model = GenresBasedFilter(movies).fit(ratings_train)"
      ]
    },
    {
      "cell_type": "markdown",
      "metadata": {
        "id": "AeicheyDrd9T"
      },
      "source": [
        "# Feature Weighted Linear Stacking"
      ]
    },
    {
      "cell_type": "markdown",
      "metadata": {
        "id": "Gis3FgI4rd9T"
      },
      "source": [
        "## Meta atributos de modelos\n",
        "\n",
        "Con nuestros dos modelos bases, pasamos a crear nuestro modelo FWLS. Para ello, lo primero que tenemos que hacer es transformar los meta atributos de los modelos a partir de la información de usuario y película (esto lleva un tiempo, porque el algoritmo de filtrado por contenido no está optimizado)."
      ]
    },
    {
      "cell_type": "code",
      "execution_count": 11,
      "metadata": {
        "id": "A_g4c4hnrd9T",
        "colab": {
          "base_uri": "https://localhost:8080/",
          "height": 101,
          "referenced_widgets": [
            "22bdb92737b74d2a8715669258022743",
            "a08aca04e9494ab69a9d06c51e07e990",
            "f44d7578f6cd4eb39aa18cded676922e",
            "dacc95a88e084a1db556e299ddbe12e3",
            "adedea226a0243beb8169bec7f6da7ce",
            "1900dc3e43834d64aa299ed2d17cdfec",
            "d0e6bd9fe0cd40d1842e1d576ad1ae31",
            "00d54bc034e04e5aa3b6eda5bb5efc8b",
            "32d50517df394a0dabd59b2846746347",
            "2af705ca516e4f8cb33e36e09b320b65",
            "9c7d8ed9e73c41cdb60c06239a18c3f5"
          ]
        },
        "outputId": "43b9c21c-49ab-4c38-98ad-959ac13d0064"
      },
      "outputs": [
        {
          "output_type": "stream",
          "name": "stderr",
          "text": [
            "/usr/local/lib/python3.7/dist-packages/ipykernel_launcher.py:5: TqdmDeprecationWarning: This function will be removed in tqdm==5.0.0\n",
            "Please use `tqdm.notebook.tqdm` instead of `tqdm.tqdm_notebook`\n",
            "  \"\"\"\n"
          ]
        },
        {
          "output_type": "display_data",
          "data": {
            "text/plain": [
              "  0%|          | 0/80668 [00:00<?, ?it/s]"
            ],
            "application/vnd.jupyter.widget-view+json": {
              "version_major": 2,
              "version_minor": 0,
              "model_id": "22bdb92737b74d2a8715669258022743"
            }
          },
          "metadata": {}
        }
      ],
      "source": [
        "from tqdm import tqdm_notebook\n",
        "\n",
        "transformed_ratings_train = []\n",
        "\n",
        "for u, m, r in notebook.tqdm(ratings_train.build_testset()):\n",
        "    transformed_ratings_train.append({\n",
        "        \"userId\": u,\n",
        "        \"movieId\": m,\n",
        "        \"cb_rating\": cb_model.predict(u, m),\n",
        "        \"cf_rating\": cf_model.predict(u, m).est,\n",
        "        \"rating\": r\n",
        "    })\n",
        "\n",
        "transformed_ratings_train = pd.DataFrame(transformed_ratings_train)"
      ]
    },
    {
      "cell_type": "markdown",
      "metadata": {
        "id": "mk0IgbXkrd9T"
      },
      "source": [
        "## Funciones atributo\n",
        "\n",
        "El siguiente paso se basa en definir nuestras funciones atributo que se le darán en conjunto a los meta atributos de los modelos para entrenar el algoritmo de regresión logística. En este caso solo definiremos tres muy sencillas."
      ]
    },
    {
      "cell_type": "code",
      "execution_count": 12,
      "metadata": {
        "id": "t1-27rtRrd9U"
      },
      "outputs": [],
      "source": [
        "from collections import defaultdict\n",
        "\n",
        "user_mean_rating = defaultdict(\n",
        "    lambda: transformed_ratings_train[\"rating\"].mean(),\n",
        "    transformed_ratings_train.groupby(\"userId\")[\"rating\"].mean().to_dict()\n",
        ")\n",
        "user_num_rating = defaultdict(\n",
        "    lambda: 0,\n",
        "    transformed_ratings_train.groupby(\"userId\").size().to_dict()\n",
        ")\n",
        "\n",
        "def feature_function_constant():\n",
        "    return 1\n",
        "\n",
        "def feature_function_mean(user_id):\n",
        "    return user_mean_rating[user_id]\n",
        "\n",
        "def feature_function_over(user_id, min_ratings=3):\n",
        "    return int(user_num_rating[user_id] >= min_ratings)"
      ]
    },
    {
      "cell_type": "markdown",
      "metadata": {
        "id": "WWc8AFPSrd9U"
      },
      "source": [
        "## Generación de atributos de entrenamiento\n",
        "\n",
        "A partir de nuestros meta atributos de lo modelos y nuestras funciones atributo, podemos definir nuestros atributos finales que serán utilizados en el modelo de regresión logística. Para ello tenemos que aplicar las funciones atributo a los meta atributos de los modelos."
      ]
    },
    {
      "cell_type": "code",
      "execution_count": 13,
      "metadata": {
        "id": "M1UQh0tIrd9U"
      },
      "outputs": [],
      "source": [
        "for base_model in [\"cb\", \"cf\"]:\n",
        "    transformed_ratings_train[\"{}_rating_fc\".format(base_model)] =\\\n",
        "        transformed_ratings_train.apply(\n",
        "            lambda row: row[\"{}_rating\".format(base_model)] * feature_function_constant(),\n",
        "            axis=1\n",
        "        )\n",
        "    transformed_ratings_train[\"{}_rating_fm\".format(base_model)] =\\\n",
        "        transformed_ratings_train.apply(\n",
        "            lambda row: row[\"{}_rating\".format(base_model)] * feature_function_mean(row[\"userId\"]),\n",
        "            axis=1\n",
        "        )\n",
        "    transformed_ratings_train[\"{}_rating_fo\".format(base_model)] =\\\n",
        "        transformed_ratings_train.apply(\n",
        "            lambda row: row[\"{}_rating\".format(base_model)] * feature_function_over(row[\"userId\"]),\n",
        "            axis=1\n",
        "        )"
      ]
    },
    {
      "cell_type": "markdown",
      "metadata": {
        "id": "IMMTntBQrd9U"
      },
      "source": [
        "## Entrenamiento del modelo\n",
        "\n",
        "El último paso es el entrenamiento del modelo de regresión lineal en base a nuestros atributos generados en el paso anterior. Este es el paso más sencillo porque utilizamos directamente el algoritmo de `scikit-learn` para regresión lineal."
      ]
    },
    {
      "cell_type": "code",
      "execution_count": 14,
      "metadata": {
        "id": "jV4nEoGWrd9V",
        "colab": {
          "base_uri": "https://localhost:8080/"
        },
        "outputId": "4ee10247-79fb-4d26-d677-453b433c5335"
      },
      "outputs": [
        {
          "output_type": "execute_result",
          "data": {
            "text/plain": [
              "LinearRegression()"
            ]
          },
          "metadata": {},
          "execution_count": 14
        }
      ],
      "source": [
        "from sklearn.linear_model import LinearRegression\n",
        "\n",
        "fwls_model = LinearRegression()\n",
        "\n",
        "feature_cols = [\"{}_rating_{}\".format(fm, ff) for fm in [\"cb\", \"cf\"] for ff in [\"fc\", \"fo\", \"fm\"]]\n",
        "\n",
        "fwls_model.fit(\n",
        "    transformed_ratings_train[feature_cols],\n",
        "    transformed_ratings_train[\"rating\"]\n",
        ")"
      ]
    },
    {
      "cell_type": "markdown",
      "metadata": {
        "id": "e8yVHLZprd9V"
      },
      "source": [
        "## Evaluación del modelo\n",
        "\n",
        "Para evaluar los modelos tenemos que realizar el mismo paso de transformación sobre los datos de evaluación que se utilizaron para los datos de entrenamiento. Empezando por la obtención de meta atributos de los modelos."
      ]
    },
    {
      "cell_type": "code",
      "execution_count": 15,
      "metadata": {
        "id": "pul5hCiFrd9V",
        "colab": {
          "base_uri": "https://localhost:8080/",
          "height": 101,
          "referenced_widgets": [
            "37d84c907f964321b74a27e06f4ee868",
            "6ced69b82830440abc0d76ca3eb34a15",
            "382d807843024120a04bbd16cfdfda84",
            "f22bace248a745b9bc06e6ec21dc8430",
            "24da838b71154031af9282a53490286e",
            "187e3a12c9e4451289b5b32abe90d052",
            "ba1555532d454b0f9ccfb0c32f002f31",
            "30cbf093f6404cd29a4f5a8497687450",
            "22bd5ab1164f4d5293c3685b2c92c3f9",
            "fc4ddcc6b42d4bd19f36972f3cf23867",
            "470d4617d2a4491c8ad049ecf51b1be2"
          ]
        },
        "outputId": "e956c2c1-7969-4e2e-f21d-547deac2fcdb"
      },
      "outputs": [
        {
          "output_type": "stream",
          "name": "stderr",
          "text": [
            "/usr/local/lib/python3.7/dist-packages/ipykernel_launcher.py:3: TqdmDeprecationWarning: This function will be removed in tqdm==5.0.0\n",
            "Please use `tqdm.notebook.tqdm` instead of `tqdm.tqdm_notebook`\n",
            "  This is separate from the ipykernel package so we can avoid doing imports until\n"
          ]
        },
        {
          "output_type": "display_data",
          "data": {
            "text/plain": [
              "  0%|          | 0/20168 [00:00<?, ?it/s]"
            ],
            "application/vnd.jupyter.widget-view+json": {
              "version_major": 2,
              "version_minor": 0,
              "model_id": "37d84c907f964321b74a27e06f4ee868"
            }
          },
          "metadata": {}
        }
      ],
      "source": [
        "transformed_ratings_test = []\n",
        "\n",
        "for u, m, r in tqdm_notebook(ratings_test):\n",
        "    transformed_ratings_test.append({\n",
        "        \"userId\": u,\n",
        "        \"movieId\": m,\n",
        "        \"cb_rating\": cb_model.predict(u, m),\n",
        "        \"cf_rating\": cf_model.predict(u, m).est,\n",
        "        \"rating\": r\n",
        "    })\n",
        "\n",
        "transformed_ratings_test = pd.DataFrame(transformed_ratings_test)"
      ]
    },
    {
      "cell_type": "markdown",
      "metadata": {
        "id": "7juH0Ve2rd9V"
      },
      "source": [
        "Y siguiendo por los atributos a partir de las funciones atributo."
      ]
    },
    {
      "cell_type": "code",
      "execution_count": 16,
      "metadata": {
        "id": "Iv_Wgnxtrd9V"
      },
      "outputs": [],
      "source": [
        "for base_model in [\"cb\", \"cf\"]:\n",
        "    transformed_ratings_test[\"{}_rating_fc\".format(base_model)] =\\\n",
        "        transformed_ratings_test.apply(\n",
        "            lambda row: row[\"{}_rating\".format(base_model)] * feature_function_constant(),\n",
        "            axis=1\n",
        "        )\n",
        "    transformed_ratings_test[\"{}_rating_fm\".format(base_model)] =\\\n",
        "        transformed_ratings_test.apply(\n",
        "            lambda row: row[\"{}_rating\".format(base_model)] * feature_function_mean(row[\"userId\"]),\n",
        "            axis=1\n",
        "        )\n",
        "    transformed_ratings_test[\"{}_rating_fo\".format(base_model)] =\\\n",
        "        transformed_ratings_test.apply(\n",
        "            lambda row: row[\"{}_rating\".format(base_model)] * feature_function_over(row[\"userId\"]),\n",
        "            axis=1\n",
        "        )\n",
        "\n",
        "transformed_ratings_test[\"fwls_rating\"] = fwls_model.predict(transformed_ratings_test[feature_cols])"
      ]
    },
    {
      "cell_type": "markdown",
      "metadata": {
        "id": "RMOnwgMXrd9W"
      },
      "source": [
        "## Comparación de los modelos\n",
        "\n",
        "Finalmente, tenemos todo lo necesario para hacer una comparación (e.g. midiento el error) de los distintos modelos sobre el conjunto de evaluación."
      ]
    },
    {
      "cell_type": "code",
      "execution_count": 17,
      "metadata": {
        "id": "PQgq1pDrrd9W",
        "colab": {
          "base_uri": "https://localhost:8080/"
        },
        "outputId": "db85dcb0-8ec3-40ee-bb57-b442fe83e13b"
      },
      "outputs": [
        {
          "output_type": "stream",
          "name": "stdout",
          "text": [
            "RMSE for cf model: 0.955092\n",
            "RMSE for cb model: 0.972270\n",
            "RMSE for fwls model: 0.946024\n"
          ]
        }
      ],
      "source": [
        "from sklearn.metrics import mean_squared_error\n",
        "\n",
        "for model in [\"cf\", \"cb\", \"fwls\"]:\n",
        "    rmse = np.sqrt(\n",
        "        mean_squared_error(\n",
        "            transformed_ratings_test[\"rating\"],\n",
        "            transformed_ratings_test[\"{}_rating\".format(model)]\n",
        "        )\n",
        "    )\n",
        "    \n",
        "    print(\"RMSE for {} model: {:03f}\".format(model, rmse))"
      ]
    }
  ],
  "metadata": {
    "celltoolbar": "Slideshow",
    "kernelspec": {
      "display_name": "Python 3",
      "language": "python",
      "name": "python3"
    },
    "language_info": {
      "codemirror_mode": {
        "name": "ipython",
        "version": 3
      },
      "file_extension": ".py",
      "mimetype": "text/x-python",
      "name": "python",
      "nbconvert_exporter": "python",
      "pygments_lexer": "ipython3",
      "version": "3.7.7"
    },
    "rise": {
      "scroll": true
    },
    "colab": {
      "name": "SR2.ipynb",
      "provenance": []
    },
    "widgets": {
      "application/vnd.jupyter.widget-state+json": {
        "22bdb92737b74d2a8715669258022743": {
          "model_module": "@jupyter-widgets/controls",
          "model_name": "HBoxModel",
          "model_module_version": "1.5.0",
          "state": {
            "_dom_classes": [],
            "_model_module": "@jupyter-widgets/controls",
            "_model_module_version": "1.5.0",
            "_model_name": "HBoxModel",
            "_view_count": null,
            "_view_module": "@jupyter-widgets/controls",
            "_view_module_version": "1.5.0",
            "_view_name": "HBoxView",
            "box_style": "",
            "children": [
              "IPY_MODEL_a08aca04e9494ab69a9d06c51e07e990",
              "IPY_MODEL_f44d7578f6cd4eb39aa18cded676922e",
              "IPY_MODEL_dacc95a88e084a1db556e299ddbe12e3"
            ],
            "layout": "IPY_MODEL_adedea226a0243beb8169bec7f6da7ce"
          }
        },
        "a08aca04e9494ab69a9d06c51e07e990": {
          "model_module": "@jupyter-widgets/controls",
          "model_name": "HTMLModel",
          "model_module_version": "1.5.0",
          "state": {
            "_dom_classes": [],
            "_model_module": "@jupyter-widgets/controls",
            "_model_module_version": "1.5.0",
            "_model_name": "HTMLModel",
            "_view_count": null,
            "_view_module": "@jupyter-widgets/controls",
            "_view_module_version": "1.5.0",
            "_view_name": "HTMLView",
            "description": "",
            "description_tooltip": null,
            "layout": "IPY_MODEL_1900dc3e43834d64aa299ed2d17cdfec",
            "placeholder": "​",
            "style": "IPY_MODEL_d0e6bd9fe0cd40d1842e1d576ad1ae31",
            "value": "100%"
          }
        },
        "f44d7578f6cd4eb39aa18cded676922e": {
          "model_module": "@jupyter-widgets/controls",
          "model_name": "FloatProgressModel",
          "model_module_version": "1.5.0",
          "state": {
            "_dom_classes": [],
            "_model_module": "@jupyter-widgets/controls",
            "_model_module_version": "1.5.0",
            "_model_name": "FloatProgressModel",
            "_view_count": null,
            "_view_module": "@jupyter-widgets/controls",
            "_view_module_version": "1.5.0",
            "_view_name": "ProgressView",
            "bar_style": "success",
            "description": "",
            "description_tooltip": null,
            "layout": "IPY_MODEL_00d54bc034e04e5aa3b6eda5bb5efc8b",
            "max": 80668,
            "min": 0,
            "orientation": "horizontal",
            "style": "IPY_MODEL_32d50517df394a0dabd59b2846746347",
            "value": 80668
          }
        },
        "dacc95a88e084a1db556e299ddbe12e3": {
          "model_module": "@jupyter-widgets/controls",
          "model_name": "HTMLModel",
          "model_module_version": "1.5.0",
          "state": {
            "_dom_classes": [],
            "_model_module": "@jupyter-widgets/controls",
            "_model_module_version": "1.5.0",
            "_model_name": "HTMLModel",
            "_view_count": null,
            "_view_module": "@jupyter-widgets/controls",
            "_view_module_version": "1.5.0",
            "_view_name": "HTMLView",
            "description": "",
            "description_tooltip": null,
            "layout": "IPY_MODEL_2af705ca516e4f8cb33e36e09b320b65",
            "placeholder": "​",
            "style": "IPY_MODEL_9c7d8ed9e73c41cdb60c06239a18c3f5",
            "value": " 80668/80668 [07:24&lt;00:00, 180.94it/s]"
          }
        },
        "adedea226a0243beb8169bec7f6da7ce": {
          "model_module": "@jupyter-widgets/base",
          "model_name": "LayoutModel",
          "model_module_version": "1.2.0",
          "state": {
            "_model_module": "@jupyter-widgets/base",
            "_model_module_version": "1.2.0",
            "_model_name": "LayoutModel",
            "_view_count": null,
            "_view_module": "@jupyter-widgets/base",
            "_view_module_version": "1.2.0",
            "_view_name": "LayoutView",
            "align_content": null,
            "align_items": null,
            "align_self": null,
            "border": null,
            "bottom": null,
            "display": null,
            "flex": null,
            "flex_flow": null,
            "grid_area": null,
            "grid_auto_columns": null,
            "grid_auto_flow": null,
            "grid_auto_rows": null,
            "grid_column": null,
            "grid_gap": null,
            "grid_row": null,
            "grid_template_areas": null,
            "grid_template_columns": null,
            "grid_template_rows": null,
            "height": null,
            "justify_content": null,
            "justify_items": null,
            "left": null,
            "margin": null,
            "max_height": null,
            "max_width": null,
            "min_height": null,
            "min_width": null,
            "object_fit": null,
            "object_position": null,
            "order": null,
            "overflow": null,
            "overflow_x": null,
            "overflow_y": null,
            "padding": null,
            "right": null,
            "top": null,
            "visibility": null,
            "width": null
          }
        },
        "1900dc3e43834d64aa299ed2d17cdfec": {
          "model_module": "@jupyter-widgets/base",
          "model_name": "LayoutModel",
          "model_module_version": "1.2.0",
          "state": {
            "_model_module": "@jupyter-widgets/base",
            "_model_module_version": "1.2.0",
            "_model_name": "LayoutModel",
            "_view_count": null,
            "_view_module": "@jupyter-widgets/base",
            "_view_module_version": "1.2.0",
            "_view_name": "LayoutView",
            "align_content": null,
            "align_items": null,
            "align_self": null,
            "border": null,
            "bottom": null,
            "display": null,
            "flex": null,
            "flex_flow": null,
            "grid_area": null,
            "grid_auto_columns": null,
            "grid_auto_flow": null,
            "grid_auto_rows": null,
            "grid_column": null,
            "grid_gap": null,
            "grid_row": null,
            "grid_template_areas": null,
            "grid_template_columns": null,
            "grid_template_rows": null,
            "height": null,
            "justify_content": null,
            "justify_items": null,
            "left": null,
            "margin": null,
            "max_height": null,
            "max_width": null,
            "min_height": null,
            "min_width": null,
            "object_fit": null,
            "object_position": null,
            "order": null,
            "overflow": null,
            "overflow_x": null,
            "overflow_y": null,
            "padding": null,
            "right": null,
            "top": null,
            "visibility": null,
            "width": null
          }
        },
        "d0e6bd9fe0cd40d1842e1d576ad1ae31": {
          "model_module": "@jupyter-widgets/controls",
          "model_name": "DescriptionStyleModel",
          "model_module_version": "1.5.0",
          "state": {
            "_model_module": "@jupyter-widgets/controls",
            "_model_module_version": "1.5.0",
            "_model_name": "DescriptionStyleModel",
            "_view_count": null,
            "_view_module": "@jupyter-widgets/base",
            "_view_module_version": "1.2.0",
            "_view_name": "StyleView",
            "description_width": ""
          }
        },
        "00d54bc034e04e5aa3b6eda5bb5efc8b": {
          "model_module": "@jupyter-widgets/base",
          "model_name": "LayoutModel",
          "model_module_version": "1.2.0",
          "state": {
            "_model_module": "@jupyter-widgets/base",
            "_model_module_version": "1.2.0",
            "_model_name": "LayoutModel",
            "_view_count": null,
            "_view_module": "@jupyter-widgets/base",
            "_view_module_version": "1.2.0",
            "_view_name": "LayoutView",
            "align_content": null,
            "align_items": null,
            "align_self": null,
            "border": null,
            "bottom": null,
            "display": null,
            "flex": null,
            "flex_flow": null,
            "grid_area": null,
            "grid_auto_columns": null,
            "grid_auto_flow": null,
            "grid_auto_rows": null,
            "grid_column": null,
            "grid_gap": null,
            "grid_row": null,
            "grid_template_areas": null,
            "grid_template_columns": null,
            "grid_template_rows": null,
            "height": null,
            "justify_content": null,
            "justify_items": null,
            "left": null,
            "margin": null,
            "max_height": null,
            "max_width": null,
            "min_height": null,
            "min_width": null,
            "object_fit": null,
            "object_position": null,
            "order": null,
            "overflow": null,
            "overflow_x": null,
            "overflow_y": null,
            "padding": null,
            "right": null,
            "top": null,
            "visibility": null,
            "width": null
          }
        },
        "32d50517df394a0dabd59b2846746347": {
          "model_module": "@jupyter-widgets/controls",
          "model_name": "ProgressStyleModel",
          "model_module_version": "1.5.0",
          "state": {
            "_model_module": "@jupyter-widgets/controls",
            "_model_module_version": "1.5.0",
            "_model_name": "ProgressStyleModel",
            "_view_count": null,
            "_view_module": "@jupyter-widgets/base",
            "_view_module_version": "1.2.0",
            "_view_name": "StyleView",
            "bar_color": null,
            "description_width": ""
          }
        },
        "2af705ca516e4f8cb33e36e09b320b65": {
          "model_module": "@jupyter-widgets/base",
          "model_name": "LayoutModel",
          "model_module_version": "1.2.0",
          "state": {
            "_model_module": "@jupyter-widgets/base",
            "_model_module_version": "1.2.0",
            "_model_name": "LayoutModel",
            "_view_count": null,
            "_view_module": "@jupyter-widgets/base",
            "_view_module_version": "1.2.0",
            "_view_name": "LayoutView",
            "align_content": null,
            "align_items": null,
            "align_self": null,
            "border": null,
            "bottom": null,
            "display": null,
            "flex": null,
            "flex_flow": null,
            "grid_area": null,
            "grid_auto_columns": null,
            "grid_auto_flow": null,
            "grid_auto_rows": null,
            "grid_column": null,
            "grid_gap": null,
            "grid_row": null,
            "grid_template_areas": null,
            "grid_template_columns": null,
            "grid_template_rows": null,
            "height": null,
            "justify_content": null,
            "justify_items": null,
            "left": null,
            "margin": null,
            "max_height": null,
            "max_width": null,
            "min_height": null,
            "min_width": null,
            "object_fit": null,
            "object_position": null,
            "order": null,
            "overflow": null,
            "overflow_x": null,
            "overflow_y": null,
            "padding": null,
            "right": null,
            "top": null,
            "visibility": null,
            "width": null
          }
        },
        "9c7d8ed9e73c41cdb60c06239a18c3f5": {
          "model_module": "@jupyter-widgets/controls",
          "model_name": "DescriptionStyleModel",
          "model_module_version": "1.5.0",
          "state": {
            "_model_module": "@jupyter-widgets/controls",
            "_model_module_version": "1.5.0",
            "_model_name": "DescriptionStyleModel",
            "_view_count": null,
            "_view_module": "@jupyter-widgets/base",
            "_view_module_version": "1.2.0",
            "_view_name": "StyleView",
            "description_width": ""
          }
        },
        "37d84c907f964321b74a27e06f4ee868": {
          "model_module": "@jupyter-widgets/controls",
          "model_name": "HBoxModel",
          "model_module_version": "1.5.0",
          "state": {
            "_dom_classes": [],
            "_model_module": "@jupyter-widgets/controls",
            "_model_module_version": "1.5.0",
            "_model_name": "HBoxModel",
            "_view_count": null,
            "_view_module": "@jupyter-widgets/controls",
            "_view_module_version": "1.5.0",
            "_view_name": "HBoxView",
            "box_style": "",
            "children": [
              "IPY_MODEL_6ced69b82830440abc0d76ca3eb34a15",
              "IPY_MODEL_382d807843024120a04bbd16cfdfda84",
              "IPY_MODEL_f22bace248a745b9bc06e6ec21dc8430"
            ],
            "layout": "IPY_MODEL_24da838b71154031af9282a53490286e"
          }
        },
        "6ced69b82830440abc0d76ca3eb34a15": {
          "model_module": "@jupyter-widgets/controls",
          "model_name": "HTMLModel",
          "model_module_version": "1.5.0",
          "state": {
            "_dom_classes": [],
            "_model_module": "@jupyter-widgets/controls",
            "_model_module_version": "1.5.0",
            "_model_name": "HTMLModel",
            "_view_count": null,
            "_view_module": "@jupyter-widgets/controls",
            "_view_module_version": "1.5.0",
            "_view_name": "HTMLView",
            "description": "",
            "description_tooltip": null,
            "layout": "IPY_MODEL_187e3a12c9e4451289b5b32abe90d052",
            "placeholder": "​",
            "style": "IPY_MODEL_ba1555532d454b0f9ccfb0c32f002f31",
            "value": "100%"
          }
        },
        "382d807843024120a04bbd16cfdfda84": {
          "model_module": "@jupyter-widgets/controls",
          "model_name": "FloatProgressModel",
          "model_module_version": "1.5.0",
          "state": {
            "_dom_classes": [],
            "_model_module": "@jupyter-widgets/controls",
            "_model_module_version": "1.5.0",
            "_model_name": "FloatProgressModel",
            "_view_count": null,
            "_view_module": "@jupyter-widgets/controls",
            "_view_module_version": "1.5.0",
            "_view_name": "ProgressView",
            "bar_style": "success",
            "description": "",
            "description_tooltip": null,
            "layout": "IPY_MODEL_30cbf093f6404cd29a4f5a8497687450",
            "max": 20168,
            "min": 0,
            "orientation": "horizontal",
            "style": "IPY_MODEL_22bd5ab1164f4d5293c3685b2c92c3f9",
            "value": 20168
          }
        },
        "f22bace248a745b9bc06e6ec21dc8430": {
          "model_module": "@jupyter-widgets/controls",
          "model_name": "HTMLModel",
          "model_module_version": "1.5.0",
          "state": {
            "_dom_classes": [],
            "_model_module": "@jupyter-widgets/controls",
            "_model_module_version": "1.5.0",
            "_model_name": "HTMLModel",
            "_view_count": null,
            "_view_module": "@jupyter-widgets/controls",
            "_view_module_version": "1.5.0",
            "_view_name": "HTMLView",
            "description": "",
            "description_tooltip": null,
            "layout": "IPY_MODEL_fc4ddcc6b42d4bd19f36972f3cf23867",
            "placeholder": "​",
            "style": "IPY_MODEL_470d4617d2a4491c8ad049ecf51b1be2",
            "value": " 20168/20168 [01:47&lt;00:00, 185.92it/s]"
          }
        },
        "24da838b71154031af9282a53490286e": {
          "model_module": "@jupyter-widgets/base",
          "model_name": "LayoutModel",
          "model_module_version": "1.2.0",
          "state": {
            "_model_module": "@jupyter-widgets/base",
            "_model_module_version": "1.2.0",
            "_model_name": "LayoutModel",
            "_view_count": null,
            "_view_module": "@jupyter-widgets/base",
            "_view_module_version": "1.2.0",
            "_view_name": "LayoutView",
            "align_content": null,
            "align_items": null,
            "align_self": null,
            "border": null,
            "bottom": null,
            "display": null,
            "flex": null,
            "flex_flow": null,
            "grid_area": null,
            "grid_auto_columns": null,
            "grid_auto_flow": null,
            "grid_auto_rows": null,
            "grid_column": null,
            "grid_gap": null,
            "grid_row": null,
            "grid_template_areas": null,
            "grid_template_columns": null,
            "grid_template_rows": null,
            "height": null,
            "justify_content": null,
            "justify_items": null,
            "left": null,
            "margin": null,
            "max_height": null,
            "max_width": null,
            "min_height": null,
            "min_width": null,
            "object_fit": null,
            "object_position": null,
            "order": null,
            "overflow": null,
            "overflow_x": null,
            "overflow_y": null,
            "padding": null,
            "right": null,
            "top": null,
            "visibility": null,
            "width": null
          }
        },
        "187e3a12c9e4451289b5b32abe90d052": {
          "model_module": "@jupyter-widgets/base",
          "model_name": "LayoutModel",
          "model_module_version": "1.2.0",
          "state": {
            "_model_module": "@jupyter-widgets/base",
            "_model_module_version": "1.2.0",
            "_model_name": "LayoutModel",
            "_view_count": null,
            "_view_module": "@jupyter-widgets/base",
            "_view_module_version": "1.2.0",
            "_view_name": "LayoutView",
            "align_content": null,
            "align_items": null,
            "align_self": null,
            "border": null,
            "bottom": null,
            "display": null,
            "flex": null,
            "flex_flow": null,
            "grid_area": null,
            "grid_auto_columns": null,
            "grid_auto_flow": null,
            "grid_auto_rows": null,
            "grid_column": null,
            "grid_gap": null,
            "grid_row": null,
            "grid_template_areas": null,
            "grid_template_columns": null,
            "grid_template_rows": null,
            "height": null,
            "justify_content": null,
            "justify_items": null,
            "left": null,
            "margin": null,
            "max_height": null,
            "max_width": null,
            "min_height": null,
            "min_width": null,
            "object_fit": null,
            "object_position": null,
            "order": null,
            "overflow": null,
            "overflow_x": null,
            "overflow_y": null,
            "padding": null,
            "right": null,
            "top": null,
            "visibility": null,
            "width": null
          }
        },
        "ba1555532d454b0f9ccfb0c32f002f31": {
          "model_module": "@jupyter-widgets/controls",
          "model_name": "DescriptionStyleModel",
          "model_module_version": "1.5.0",
          "state": {
            "_model_module": "@jupyter-widgets/controls",
            "_model_module_version": "1.5.0",
            "_model_name": "DescriptionStyleModel",
            "_view_count": null,
            "_view_module": "@jupyter-widgets/base",
            "_view_module_version": "1.2.0",
            "_view_name": "StyleView",
            "description_width": ""
          }
        },
        "30cbf093f6404cd29a4f5a8497687450": {
          "model_module": "@jupyter-widgets/base",
          "model_name": "LayoutModel",
          "model_module_version": "1.2.0",
          "state": {
            "_model_module": "@jupyter-widgets/base",
            "_model_module_version": "1.2.0",
            "_model_name": "LayoutModel",
            "_view_count": null,
            "_view_module": "@jupyter-widgets/base",
            "_view_module_version": "1.2.0",
            "_view_name": "LayoutView",
            "align_content": null,
            "align_items": null,
            "align_self": null,
            "border": null,
            "bottom": null,
            "display": null,
            "flex": null,
            "flex_flow": null,
            "grid_area": null,
            "grid_auto_columns": null,
            "grid_auto_flow": null,
            "grid_auto_rows": null,
            "grid_column": null,
            "grid_gap": null,
            "grid_row": null,
            "grid_template_areas": null,
            "grid_template_columns": null,
            "grid_template_rows": null,
            "height": null,
            "justify_content": null,
            "justify_items": null,
            "left": null,
            "margin": null,
            "max_height": null,
            "max_width": null,
            "min_height": null,
            "min_width": null,
            "object_fit": null,
            "object_position": null,
            "order": null,
            "overflow": null,
            "overflow_x": null,
            "overflow_y": null,
            "padding": null,
            "right": null,
            "top": null,
            "visibility": null,
            "width": null
          }
        },
        "22bd5ab1164f4d5293c3685b2c92c3f9": {
          "model_module": "@jupyter-widgets/controls",
          "model_name": "ProgressStyleModel",
          "model_module_version": "1.5.0",
          "state": {
            "_model_module": "@jupyter-widgets/controls",
            "_model_module_version": "1.5.0",
            "_model_name": "ProgressStyleModel",
            "_view_count": null,
            "_view_module": "@jupyter-widgets/base",
            "_view_module_version": "1.2.0",
            "_view_name": "StyleView",
            "bar_color": null,
            "description_width": ""
          }
        },
        "fc4ddcc6b42d4bd19f36972f3cf23867": {
          "model_module": "@jupyter-widgets/base",
          "model_name": "LayoutModel",
          "model_module_version": "1.2.0",
          "state": {
            "_model_module": "@jupyter-widgets/base",
            "_model_module_version": "1.2.0",
            "_model_name": "LayoutModel",
            "_view_count": null,
            "_view_module": "@jupyter-widgets/base",
            "_view_module_version": "1.2.0",
            "_view_name": "LayoutView",
            "align_content": null,
            "align_items": null,
            "align_self": null,
            "border": null,
            "bottom": null,
            "display": null,
            "flex": null,
            "flex_flow": null,
            "grid_area": null,
            "grid_auto_columns": null,
            "grid_auto_flow": null,
            "grid_auto_rows": null,
            "grid_column": null,
            "grid_gap": null,
            "grid_row": null,
            "grid_template_areas": null,
            "grid_template_columns": null,
            "grid_template_rows": null,
            "height": null,
            "justify_content": null,
            "justify_items": null,
            "left": null,
            "margin": null,
            "max_height": null,
            "max_width": null,
            "min_height": null,
            "min_width": null,
            "object_fit": null,
            "object_position": null,
            "order": null,
            "overflow": null,
            "overflow_x": null,
            "overflow_y": null,
            "padding": null,
            "right": null,
            "top": null,
            "visibility": null,
            "width": null
          }
        },
        "470d4617d2a4491c8ad049ecf51b1be2": {
          "model_module": "@jupyter-widgets/controls",
          "model_name": "DescriptionStyleModel",
          "model_module_version": "1.5.0",
          "state": {
            "_model_module": "@jupyter-widgets/controls",
            "_model_module_version": "1.5.0",
            "_model_name": "DescriptionStyleModel",
            "_view_count": null,
            "_view_module": "@jupyter-widgets/base",
            "_view_module_version": "1.2.0",
            "_view_name": "StyleView",
            "description_width": ""
          }
        }
      }
    }
  },
  "nbformat": 4,
  "nbformat_minor": 0
}